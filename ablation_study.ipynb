{
 "cells": [
  {
   "cell_type": "markdown",
   "metadata": {
    "id": "Um_TiVf5Zi7F"
   },
   "source": [
    "# CS 6120: Natural Language Processing\n",
    "## Final Project: Music Genre Classification\n",
    "## Authors: Bharat Chawla and Himaja R. Ginkala"
   ]
  },
  {
   "cell_type": "code",
   "execution_count": 1,
   "metadata": {
    "colab": {
     "base_uri": "https://localhost:8080/"
    },
    "id": "2xzKLoC9Zho9",
    "outputId": "58f6f7c7-656e-4425-8432-14f12cbcbd79"
   },
   "outputs": [
    {
     "name": "stderr",
     "output_type": "stream",
     "text": [
      "[nltk_data] Downloading package punkt to /home/chawla.bh/nltk_data...\n",
      "[nltk_data]   Package punkt is already up-to-date!\n"
     ]
    }
   ],
   "source": [
    "# importing libraries\n",
    "import csv\n",
    "import matplotlib.pyplot as plt\n",
    "import numpy as np\n",
    "import pandas as pd\n",
    "import seaborn as sns\n",
    "import tensorflow as tf\n",
    "\n",
    "import keras\n",
    "from keras.layers import Dense, Flatten, LSTM, Layer, MaxPooling1D, Dropout, Activation, Attention\n",
    "from keras.layers import Embedding\n",
    "from keras.models import Sequential\n",
    "from keras.preprocessing.sequence import pad_sequences\n",
    "from keras.preprocessing.text import Tokenizer\n",
    "\n",
    "import nltk\n",
    "from nltk.corpus import stopwords\n",
    "from nltk.tokenize import word_tokenize\n",
    "nltk.download('punkt')\n",
    "\n",
    "import torch\n",
    "import torch.nn as nn\n",
    "import torch.optim as optim\n",
    "from torch.utils.data import TensorDataset, DataLoader\n",
    "\n",
    "from sklearn.model_selection import train_test_split\n",
    "from sklearn.preprocessing import OneHotEncoder\n",
    "\n",
    "import warnings\n",
    "warnings.filterwarnings('ignore')"
   ]
  },
  {
   "cell_type": "markdown",
   "metadata": {
    "id": "Ej7ebxbQLGPl"
   },
   "source": [
    "### Data Preparation"
   ]
  },
  {
   "cell_type": "code",
   "execution_count": 2,
   "metadata": {
    "id": "QehD_FdCW_ZO"
   },
   "outputs": [],
   "source": [
    "# load data from CSV file\n",
    "df_english_cleaned = pd.read_csv('english_cleaned.csv')"
   ]
  },
  {
   "cell_type": "markdown",
   "metadata": {
    "id": "MJMYUfGwh2JI"
   },
   "source": [
    "#### Vocabulary"
   ]
  },
  {
   "cell_type": "code",
   "execution_count": 3,
   "metadata": {
    "colab": {
     "base_uri": "https://localhost:8080/"
    },
    "id": "WVywQ-2f_QVS",
    "outputId": "e157d182-d820-4307-d1c5-9af89acf4b73"
   },
   "outputs": [
    {
     "name": "stdout",
     "output_type": "stream",
     "text": [
      "Vocabulary Size:  186126\n"
     ]
    }
   ],
   "source": [
    "# load vocabulary from file\n",
    "with open('vocabulary.txt', \"r\") as f:\n",
    "    vocabulary = f.readlines()\n",
    "\n",
    "print(\"Vocabulary Size: \", len(vocabulary))\n",
    "\n",
    "# replace new line characters\n",
    "vocabulary = list(map(lambda s: s.strip(), vocabulary))"
   ]
  },
  {
   "cell_type": "code",
   "execution_count": 4,
   "metadata": {
    "id": "meyLwLCYh9sK"
   },
   "outputs": [],
   "source": [
    "# create word to id dictionary\n",
    "word_to_id = {}\n",
    "for i, word in enumerate(vocabulary):\n",
    "  word_to_id[word] = i + 1"
   ]
  },
  {
   "cell_type": "markdown",
   "metadata": {
    "id": "y8Ol89l3jFVA"
   },
   "source": [
    "#### Glove Embeddings"
   ]
  },
  {
   "cell_type": "code",
   "execution_count": 5,
   "metadata": {
    "colab": {
     "base_uri": "https://localhost:8080/"
    },
    "id": "tD51htbrjFcR",
    "outputId": "ae40b933-8438-4927-aa28-4d440aa031e5"
   },
   "outputs": [
    {
     "name": "stdout",
     "output_type": "stream",
     "text": [
      "Found 400000 word vectors.\n"
     ]
    }
   ],
   "source": [
    "# open glove embeddings file\n",
    "glove_file = open('glove.6B.100d.txt')\n",
    "\n",
    "glove_embeddings = {}\n",
    "for line in glove_file:\n",
    "  values = line.split()\n",
    "  word = values[0]\n",
    "  coefs = np.asarray(values[1:], dtype = 'float32')\n",
    "  glove_embeddings[word] = coefs\n",
    "\n",
    "glove_file.close()\n",
    "\n",
    "all_glove_words = list(glove_embeddings.keys())\n",
    "print(\"Found %s word vectors.\" % len(glove_embeddings))"
   ]
  },
  {
   "cell_type": "markdown",
   "metadata": {
    "id": "959Ys89FsDg7"
   },
   "source": [
    "#### Embedding Matrix"
   ]
  },
  {
   "cell_type": "code",
   "execution_count": 6,
   "metadata": {
    "colab": {
     "base_uri": "https://localhost:8080/"
    },
    "id": "e6e_ZxA2p2jo",
    "outputId": "e66c74c8-a9ee-4f52-a8e8-c026059de869"
   },
   "outputs": [
    {
     "name": "stdout",
     "output_type": "stream",
     "text": [
      "(186126, 100)\n"
     ]
    }
   ],
   "source": [
    "embedding_matrix = np.zeros((len(vocabulary), 100))\n",
    "\n",
    "for word, i in word_to_id.items():\n",
    "  embedding_vector = glove_embeddings.get(word)\n",
    "  if embedding_vector is not None:\n",
    "    embedding_matrix[i] = embedding_vector\n",
    "\n",
    "print(embedding_matrix.shape)"
   ]
  },
  {
   "cell_type": "code",
   "execution_count": 7,
   "metadata": {
    "id": "OV9R2GxSGwDK"
   },
   "outputs": [],
   "source": [
    "# get only data with cleaned lyrics\n",
    "df_english = df_english_cleaned[df_english_cleaned['Cleaned_Lyric'].notna()]"
   ]
  },
  {
   "cell_type": "markdown",
   "metadata": {
    "id": "WAXOZmD4KdV9"
   },
   "source": [
    "#### Genre Separation"
   ]
  },
  {
   "cell_type": "code",
   "execution_count": 8,
   "metadata": {
    "colab": {
     "base_uri": "https://localhost:8080/",
     "height": 597
    },
    "id": "Y3cePMheJvrG",
    "outputId": "a6deaee1-4165-4bd9-b60b-64984d59fe96"
   },
   "outputs": [
    {
     "data": {
      "text/html": [
       "<div>\n",
       "<style scoped>\n",
       "    .dataframe tbody tr th:only-of-type {\n",
       "        vertical-align: middle;\n",
       "    }\n",
       "\n",
       "    .dataframe tbody tr th {\n",
       "        vertical-align: top;\n",
       "    }\n",
       "\n",
       "    .dataframe thead th {\n",
       "        text-align: right;\n",
       "    }\n",
       "</style>\n",
       "<table border=\"1\" class=\"dataframe\">\n",
       "  <thead>\n",
       "    <tr style=\"text-align: right;\">\n",
       "      <th></th>\n",
       "      <th>Artist</th>\n",
       "      <th>SName</th>\n",
       "      <th>Genre</th>\n",
       "      <th>Lyric</th>\n",
       "      <th>Popularity</th>\n",
       "      <th>Language</th>\n",
       "      <th>Cleaned_Lyric</th>\n",
       "    </tr>\n",
       "  </thead>\n",
       "  <tbody>\n",
       "    <tr>\n",
       "      <th>0</th>\n",
       "      <td>Ivete Sangalo</td>\n",
       "      <td>Careless Whisper</td>\n",
       "      <td>Pop</td>\n",
       "      <td>I feel so unsure\\nAs I take your hand and lead...</td>\n",
       "      <td>4.4</td>\n",
       "      <td>en</td>\n",
       "      <td>feel unsure take hand lead dance floor music d...</td>\n",
       "    </tr>\n",
       "    <tr>\n",
       "      <th>1</th>\n",
       "      <td>Ivete Sangalo</td>\n",
       "      <td>Could You Be Loved / Citação Musical do Rap: S...</td>\n",
       "      <td>Pop</td>\n",
       "      <td>Don't let them fool, ya\\nOr even try to school...</td>\n",
       "      <td>4.4</td>\n",
       "      <td>en</td>\n",
       "      <td>let fool ya even try school ya oh got mind go ...</td>\n",
       "    </tr>\n",
       "    <tr>\n",
       "      <th>2</th>\n",
       "      <td>Ivete Sangalo</td>\n",
       "      <td>Cruisin' (Part. Saulo)</td>\n",
       "      <td>Pop</td>\n",
       "      <td>Baby, let's cruise, away from here\\nDon't be c...</td>\n",
       "      <td>4.4</td>\n",
       "      <td>en</td>\n",
       "      <td>baby let cruise away confused way clear want g...</td>\n",
       "    </tr>\n",
       "    <tr>\n",
       "      <th>3</th>\n",
       "      <td>Ivete Sangalo</td>\n",
       "      <td>Easy</td>\n",
       "      <td>Pop</td>\n",
       "      <td>Know it sounds funny\\nBut, I just can't stand ...</td>\n",
       "      <td>4.4</td>\n",
       "      <td>en</td>\n",
       "      <td>know sounds funny stand pain girl leaving tomo...</td>\n",
       "    </tr>\n",
       "    <tr>\n",
       "      <th>4</th>\n",
       "      <td>Ivete Sangalo</td>\n",
       "      <td>For Your Babies (The Voice cover)</td>\n",
       "      <td>Pop</td>\n",
       "      <td>You've got that look again\\nThe one I hoped I ...</td>\n",
       "      <td>4.4</td>\n",
       "      <td>en</td>\n",
       "      <td>got look one hoped lad face beaming smile got ...</td>\n",
       "    </tr>\n",
       "    <tr>\n",
       "      <th>...</th>\n",
       "      <td>...</td>\n",
       "      <td>...</td>\n",
       "      <td>...</td>\n",
       "      <td>...</td>\n",
       "      <td>...</td>\n",
       "      <td>...</td>\n",
       "      <td>...</td>\n",
       "    </tr>\n",
       "    <tr>\n",
       "      <th>191382</th>\n",
       "      <td>Johnny Clegg</td>\n",
       "      <td>The Waiting</td>\n",
       "      <td>World Music</td>\n",
       "      <td>Chorus\\nHere we stand waiting on the plain\\nDa...</td>\n",
       "      <td>0.0</td>\n",
       "      <td>en</td>\n",
       "      <td>chorus stand waiting plain darkness taken last...</td>\n",
       "    </tr>\n",
       "    <tr>\n",
       "      <th>191383</th>\n",
       "      <td>Johnny Clegg</td>\n",
       "      <td>Too Early For The Sky</td>\n",
       "      <td>World Music</td>\n",
       "      <td>I nearly disappeared into the mouth of a croco...</td>\n",
       "      <td>0.0</td>\n",
       "      <td>en</td>\n",
       "      <td>nearly disappeared mouth crocodile nearly touc...</td>\n",
       "    </tr>\n",
       "    <tr>\n",
       "      <th>191384</th>\n",
       "      <td>Johnny Clegg</td>\n",
       "      <td>Warsaw 1943 (I Never Betrayed The Revolution)</td>\n",
       "      <td>World Music</td>\n",
       "      <td>Amambuka, amambuka azothengisa izwe lakithi, i...</td>\n",
       "      <td>0.0</td>\n",
       "      <td>en</td>\n",
       "      <td>amambuka amambuka azothengisa izwe lakithi izw...</td>\n",
       "    </tr>\n",
       "    <tr>\n",
       "      <th>191385</th>\n",
       "      <td>Johnny Clegg</td>\n",
       "      <td>When The System Has Fallen</td>\n",
       "      <td>World Music</td>\n",
       "      <td>Sweat in the heat for days on end\\nwaiting for...</td>\n",
       "      <td>0.0</td>\n",
       "      <td>en</td>\n",
       "      <td>sweat heat days end waiting come hear words sp...</td>\n",
       "    </tr>\n",
       "    <tr>\n",
       "      <th>191386</th>\n",
       "      <td>Johnny Clegg</td>\n",
       "      <td>Woman Be My Country</td>\n",
       "      <td>World Music</td>\n",
       "      <td>Here we stand on the edge of the day\\nFaces me...</td>\n",
       "      <td>0.0</td>\n",
       "      <td>en</td>\n",
       "      <td>stand edge day faces melting african rain many...</td>\n",
       "    </tr>\n",
       "  </tbody>\n",
       "</table>\n",
       "<p>191384 rows × 7 columns</p>\n",
       "</div>"
      ],
      "text/plain": [
       "               Artist                                              SName  \\\n",
       "0       Ivete Sangalo                                   Careless Whisper   \n",
       "1       Ivete Sangalo  Could You Be Loved / Citação Musical do Rap: S...   \n",
       "2       Ivete Sangalo                             Cruisin' (Part. Saulo)   \n",
       "3       Ivete Sangalo                                               Easy   \n",
       "4       Ivete Sangalo                  For Your Babies (The Voice cover)   \n",
       "...               ...                                                ...   \n",
       "191382   Johnny Clegg                                        The Waiting   \n",
       "191383   Johnny Clegg                              Too Early For The Sky   \n",
       "191384   Johnny Clegg      Warsaw 1943 (I Never Betrayed The Revolution)   \n",
       "191385   Johnny Clegg                         When The System Has Fallen   \n",
       "191386   Johnny Clegg                                Woman Be My Country   \n",
       "\n",
       "              Genre                                              Lyric  \\\n",
       "0               Pop  I feel so unsure\\nAs I take your hand and lead...   \n",
       "1               Pop  Don't let them fool, ya\\nOr even try to school...   \n",
       "2               Pop  Baby, let's cruise, away from here\\nDon't be c...   \n",
       "3               Pop  Know it sounds funny\\nBut, I just can't stand ...   \n",
       "4               Pop  You've got that look again\\nThe one I hoped I ...   \n",
       "...             ...                                                ...   \n",
       "191382  World Music  Chorus\\nHere we stand waiting on the plain\\nDa...   \n",
       "191383  World Music  I nearly disappeared into the mouth of a croco...   \n",
       "191384  World Music  Amambuka, amambuka azothengisa izwe lakithi, i...   \n",
       "191385  World Music  Sweat in the heat for days on end\\nwaiting for...   \n",
       "191386  World Music  Here we stand on the edge of the day\\nFaces me...   \n",
       "\n",
       "        Popularity Language                                      Cleaned_Lyric  \n",
       "0              4.4       en  feel unsure take hand lead dance floor music d...  \n",
       "1              4.4       en  let fool ya even try school ya oh got mind go ...  \n",
       "2              4.4       en  baby let cruise away confused way clear want g...  \n",
       "3              4.4       en  know sounds funny stand pain girl leaving tomo...  \n",
       "4              4.4       en  got look one hoped lad face beaming smile got ...  \n",
       "...            ...      ...                                                ...  \n",
       "191382         0.0       en  chorus stand waiting plain darkness taken last...  \n",
       "191383         0.0       en  nearly disappeared mouth crocodile nearly touc...  \n",
       "191384         0.0       en  amambuka amambuka azothengisa izwe lakithi izw...  \n",
       "191385         0.0       en  sweat heat days end waiting come hear words sp...  \n",
       "191386         0.0       en  stand edge day faces melting african rain many...  \n",
       "\n",
       "[191384 rows x 7 columns]"
      ]
     },
     "execution_count": 8,
     "metadata": {},
     "output_type": "execute_result"
    }
   ],
   "source": [
    "# convert multi-valued column to single value\n",
    "for i, row in df_english.iterrows():\n",
    "  if \";\" in str(df_english.at[i, 'Genres']):\n",
    "    genres = df_english.at[i, 'Genres'].split(\"; \")\n",
    "    df_english.at[i, 'Genres'] = genres[0]\n",
    "\n",
    "#rename column\n",
    "df_english.rename(columns = {'Genres':'Genre'}, inplace = True)\n",
    "df_english['Genre'] = df_english['Genre'].replace('Pop/Rock', 'Pop-Rock')\n",
    "df_english"
   ]
  },
  {
   "cell_type": "code",
   "execution_count": 9,
   "metadata": {
    "colab": {
     "base_uri": "https://localhost:8080/"
    },
    "id": "12G1Oy0bKTPg",
    "outputId": "01bcc19b-3b47-40ee-9617-5884eceb70a8"
   },
   "outputs": [
    {
     "name": "stdout",
     "output_type": "stream",
     "text": [
      "Number of English Genres:  Rock             25177\n",
      "Pop              13759\n",
      "Heavy Metal      13496\n",
      "Indie            12998\n",
      "Rap               9589\n",
      "                 ...  \n",
      "Electro Swing        6\n",
      "Jovem Guarda         6\n",
      "Forró                3\n",
      "Lo-fi                1\n",
      "Regional             1\n",
      "Name: Genre, Length: 73, dtype: int64\n"
     ]
    }
   ],
   "source": [
    "# get genre count\n",
    "genre_counts = df_english['Genre'].value_counts()\n",
    "print(\"Number of English Genres: \", genre_counts)\n",
    "\n",
    "# get genre names\n",
    "genre_names = df_english['Genre'].value_counts().index.tolist()"
   ]
  },
  {
   "cell_type": "code",
   "execution_count": 10,
   "metadata": {
    "colab": {
     "base_uri": "https://localhost:8080/",
     "height": 597
    },
    "id": "KnXdBBzQJqOZ",
    "outputId": "4a783add-f7b6-465c-e3db-169ba3baf510"
   },
   "outputs": [
    {
     "data": {
      "text/html": [
       "<div>\n",
       "<style scoped>\n",
       "    .dataframe tbody tr th:only-of-type {\n",
       "        vertical-align: middle;\n",
       "    }\n",
       "\n",
       "    .dataframe tbody tr th {\n",
       "        vertical-align: top;\n",
       "    }\n",
       "\n",
       "    .dataframe thead th {\n",
       "        text-align: right;\n",
       "    }\n",
       "</style>\n",
       "<table border=\"1\" class=\"dataframe\">\n",
       "  <thead>\n",
       "    <tr style=\"text-align: right;\">\n",
       "      <th></th>\n",
       "      <th>Artist</th>\n",
       "      <th>SName</th>\n",
       "      <th>Genre</th>\n",
       "      <th>Lyric</th>\n",
       "      <th>Popularity</th>\n",
       "      <th>Language</th>\n",
       "      <th>Cleaned_Lyric</th>\n",
       "    </tr>\n",
       "  </thead>\n",
       "  <tbody>\n",
       "    <tr>\n",
       "      <th>0</th>\n",
       "      <td>Ivete Sangalo</td>\n",
       "      <td>Careless Whisper</td>\n",
       "      <td>Pop</td>\n",
       "      <td>I feel so unsure\\nAs I take your hand and lead...</td>\n",
       "      <td>4.4</td>\n",
       "      <td>en</td>\n",
       "      <td>feel unsure take hand lead dance floor music d...</td>\n",
       "    </tr>\n",
       "    <tr>\n",
       "      <th>1</th>\n",
       "      <td>Ivete Sangalo</td>\n",
       "      <td>Could You Be Loved / Citação Musical do Rap: S...</td>\n",
       "      <td>Pop</td>\n",
       "      <td>Don't let them fool, ya\\nOr even try to school...</td>\n",
       "      <td>4.4</td>\n",
       "      <td>en</td>\n",
       "      <td>let fool ya even try school ya oh got mind go ...</td>\n",
       "    </tr>\n",
       "    <tr>\n",
       "      <th>2</th>\n",
       "      <td>Ivete Sangalo</td>\n",
       "      <td>Cruisin' (Part. Saulo)</td>\n",
       "      <td>Pop</td>\n",
       "      <td>Baby, let's cruise, away from here\\nDon't be c...</td>\n",
       "      <td>4.4</td>\n",
       "      <td>en</td>\n",
       "      <td>baby let cruise away confused way clear want g...</td>\n",
       "    </tr>\n",
       "    <tr>\n",
       "      <th>3</th>\n",
       "      <td>Ivete Sangalo</td>\n",
       "      <td>Easy</td>\n",
       "      <td>Pop</td>\n",
       "      <td>Know it sounds funny\\nBut, I just can't stand ...</td>\n",
       "      <td>4.4</td>\n",
       "      <td>en</td>\n",
       "      <td>know sounds funny stand pain girl leaving tomo...</td>\n",
       "    </tr>\n",
       "    <tr>\n",
       "      <th>4</th>\n",
       "      <td>Ivete Sangalo</td>\n",
       "      <td>For Your Babies (The Voice cover)</td>\n",
       "      <td>Pop</td>\n",
       "      <td>You've got that look again\\nThe one I hoped I ...</td>\n",
       "      <td>4.4</td>\n",
       "      <td>en</td>\n",
       "      <td>got look one hoped lad face beaming smile got ...</td>\n",
       "    </tr>\n",
       "    <tr>\n",
       "      <th>...</th>\n",
       "      <td>...</td>\n",
       "      <td>...</td>\n",
       "      <td>...</td>\n",
       "      <td>...</td>\n",
       "      <td>...</td>\n",
       "      <td>...</td>\n",
       "      <td>...</td>\n",
       "    </tr>\n",
       "    <tr>\n",
       "      <th>181874</th>\n",
       "      <td>The Panic Channel</td>\n",
       "      <td>Outsider</td>\n",
       "      <td>Rock</td>\n",
       "      <td>I'm silent\\nin the rolling wake\\nof lucky and ...</td>\n",
       "      <td>0.0</td>\n",
       "      <td>en</td>\n",
       "      <td>silent rolling wake lucky adored ugly blur sid...</td>\n",
       "    </tr>\n",
       "    <tr>\n",
       "      <th>181875</th>\n",
       "      <td>The Panic Channel</td>\n",
       "      <td>Said You'd Be</td>\n",
       "      <td>Rock</td>\n",
       "      <td>smile and pose\\nshaking hands and stealing vot...</td>\n",
       "      <td>0.0</td>\n",
       "      <td>en</td>\n",
       "      <td>smile pose shaking hands stealing votes agree ...</td>\n",
       "    </tr>\n",
       "    <tr>\n",
       "      <th>181876</th>\n",
       "      <td>The Panic Channel</td>\n",
       "      <td>She Won't Last</td>\n",
       "      <td>Rock</td>\n",
       "      <td>she's waiting to fall apart\\nblind to how bad ...</td>\n",
       "      <td>0.0</td>\n",
       "      <td>en</td>\n",
       "      <td>waiting fall apart blind bad things know last ...</td>\n",
       "    </tr>\n",
       "    <tr>\n",
       "      <th>181877</th>\n",
       "      <td>The Panic Channel</td>\n",
       "      <td>Teahouse Of The Spirits</td>\n",
       "      <td>Rock</td>\n",
       "      <td>special guest will you come tonight\\nbrief vis...</td>\n",
       "      <td>0.0</td>\n",
       "      <td>en</td>\n",
       "      <td>special guest come tonight brief visit side pa...</td>\n",
       "    </tr>\n",
       "    <tr>\n",
       "      <th>181878</th>\n",
       "      <td>The Panic Channel</td>\n",
       "      <td>Why Cry</td>\n",
       "      <td>Rock</td>\n",
       "      <td>I've been feeling lonesome\\nI'm down, don't kn...</td>\n",
       "      <td>0.0</td>\n",
       "      <td>en</td>\n",
       "      <td>feeling lonesome know let lie plant seeds insi...</td>\n",
       "    </tr>\n",
       "  </tbody>\n",
       "</table>\n",
       "<p>75019 rows × 7 columns</p>\n",
       "</div>"
      ],
      "text/plain": [
       "                   Artist                                              SName  \\\n",
       "0           Ivete Sangalo                                   Careless Whisper   \n",
       "1           Ivete Sangalo  Could You Be Loved / Citação Musical do Rap: S...   \n",
       "2           Ivete Sangalo                             Cruisin' (Part. Saulo)   \n",
       "3           Ivete Sangalo                                               Easy   \n",
       "4           Ivete Sangalo                  For Your Babies (The Voice cover)   \n",
       "...                   ...                                                ...   \n",
       "181874  The Panic Channel                                           Outsider   \n",
       "181875  The Panic Channel                                      Said You'd Be   \n",
       "181876  The Panic Channel                                     She Won't Last   \n",
       "181877  The Panic Channel                            Teahouse Of The Spirits   \n",
       "181878  The Panic Channel                                            Why Cry   \n",
       "\n",
       "       Genre                                              Lyric  Popularity  \\\n",
       "0        Pop  I feel so unsure\\nAs I take your hand and lead...         4.4   \n",
       "1        Pop  Don't let them fool, ya\\nOr even try to school...         4.4   \n",
       "2        Pop  Baby, let's cruise, away from here\\nDon't be c...         4.4   \n",
       "3        Pop  Know it sounds funny\\nBut, I just can't stand ...         4.4   \n",
       "4        Pop  You've got that look again\\nThe one I hoped I ...         4.4   \n",
       "...      ...                                                ...         ...   \n",
       "181874  Rock  I'm silent\\nin the rolling wake\\nof lucky and ...         0.0   \n",
       "181875  Rock  smile and pose\\nshaking hands and stealing vot...         0.0   \n",
       "181876  Rock  she's waiting to fall apart\\nblind to how bad ...         0.0   \n",
       "181877  Rock  special guest will you come tonight\\nbrief vis...         0.0   \n",
       "181878  Rock  I've been feeling lonesome\\nI'm down, don't kn...         0.0   \n",
       "\n",
       "       Language                                      Cleaned_Lyric  \n",
       "0            en  feel unsure take hand lead dance floor music d...  \n",
       "1            en  let fool ya even try school ya oh got mind go ...  \n",
       "2            en  baby let cruise away confused way clear want g...  \n",
       "3            en  know sounds funny stand pain girl leaving tomo...  \n",
       "4            en  got look one hoped lad face beaming smile got ...  \n",
       "...         ...                                                ...  \n",
       "181874       en  silent rolling wake lucky adored ugly blur sid...  \n",
       "181875       en  smile pose shaking hands stealing votes agree ...  \n",
       "181876       en  waiting fall apart blind bad things know last ...  \n",
       "181877       en  special guest come tonight brief visit side pa...  \n",
       "181878       en  feeling lonesome know let lie plant seeds insi...  \n",
       "\n",
       "[75019 rows x 7 columns]"
      ]
     },
     "execution_count": 10,
     "metadata": {},
     "output_type": "execute_result"
    }
   ],
   "source": [
    "# create dataframe of only top 10 genres in English\n",
    "top_10_genres = genre_names[0:10]\n",
    "df_english_top_10_genres = df_english[df_english['Genre'].isin(top_10_genres)]\n",
    "\n",
    "# create dataframe of only top 5 genres in English\n",
    "top_5_genres = genre_names[0:5]\n",
    "df_english_top_5_genres = df_english[df_english['Genre'].isin(top_5_genres)]\n",
    "df_english_top_5_genres"
   ]
  },
  {
   "cell_type": "code",
   "execution_count": 11,
   "metadata": {
    "colab": {
     "base_uri": "https://localhost:8080/",
     "height": 597
    },
    "id": "EXCvOYTG-fsO",
    "outputId": "3574d836-da07-46fc-8e1d-69f65ce4b7f4"
   },
   "outputs": [
    {
     "data": {
      "text/html": [
       "<div>\n",
       "<style scoped>\n",
       "    .dataframe tbody tr th:only-of-type {\n",
       "        vertical-align: middle;\n",
       "    }\n",
       "\n",
       "    .dataframe tbody tr th {\n",
       "        vertical-align: top;\n",
       "    }\n",
       "\n",
       "    .dataframe thead th {\n",
       "        text-align: right;\n",
       "    }\n",
       "</style>\n",
       "<table border=\"1\" class=\"dataframe\">\n",
       "  <thead>\n",
       "    <tr style=\"text-align: right;\">\n",
       "      <th></th>\n",
       "      <th>Artist</th>\n",
       "      <th>SName</th>\n",
       "      <th>Genre</th>\n",
       "      <th>Lyric</th>\n",
       "      <th>Popularity</th>\n",
       "      <th>Language</th>\n",
       "      <th>Cleaned_Lyric</th>\n",
       "    </tr>\n",
       "  </thead>\n",
       "  <tbody>\n",
       "    <tr>\n",
       "      <th>0</th>\n",
       "      <td>Ivete Sangalo</td>\n",
       "      <td>Careless Whisper</td>\n",
       "      <td>Pop</td>\n",
       "      <td>I feel so unsure\\nAs I take your hand and lead...</td>\n",
       "      <td>4.4</td>\n",
       "      <td>en</td>\n",
       "      <td>feel unsure take hand lead dance floor music d...</td>\n",
       "    </tr>\n",
       "    <tr>\n",
       "      <th>1</th>\n",
       "      <td>Ivete Sangalo</td>\n",
       "      <td>Could You Be Loved / Citação Musical do Rap: S...</td>\n",
       "      <td>Pop</td>\n",
       "      <td>Don't let them fool, ya\\nOr even try to school...</td>\n",
       "      <td>4.4</td>\n",
       "      <td>en</td>\n",
       "      <td>let fool ya even try school ya oh got mind go ...</td>\n",
       "    </tr>\n",
       "    <tr>\n",
       "      <th>2</th>\n",
       "      <td>Ivete Sangalo</td>\n",
       "      <td>Cruisin' (Part. Saulo)</td>\n",
       "      <td>Pop</td>\n",
       "      <td>Baby, let's cruise, away from here\\nDon't be c...</td>\n",
       "      <td>4.4</td>\n",
       "      <td>en</td>\n",
       "      <td>baby let cruise away confused way clear want g...</td>\n",
       "    </tr>\n",
       "    <tr>\n",
       "      <th>3</th>\n",
       "      <td>Ivete Sangalo</td>\n",
       "      <td>Easy</td>\n",
       "      <td>Pop</td>\n",
       "      <td>Know it sounds funny\\nBut, I just can't stand ...</td>\n",
       "      <td>4.4</td>\n",
       "      <td>en</td>\n",
       "      <td>know sounds funny stand pain girl leaving tomo...</td>\n",
       "    </tr>\n",
       "    <tr>\n",
       "      <th>4</th>\n",
       "      <td>Ivete Sangalo</td>\n",
       "      <td>For Your Babies (The Voice cover)</td>\n",
       "      <td>Pop</td>\n",
       "      <td>You've got that look again\\nThe one I hoped I ...</td>\n",
       "      <td>4.4</td>\n",
       "      <td>en</td>\n",
       "      <td>got look one hoped lad face beaming smile got ...</td>\n",
       "    </tr>\n",
       "    <tr>\n",
       "      <th>...</th>\n",
       "      <td>...</td>\n",
       "      <td>...</td>\n",
       "      <td>...</td>\n",
       "      <td>...</td>\n",
       "      <td>...</td>\n",
       "      <td>...</td>\n",
       "      <td>...</td>\n",
       "    </tr>\n",
       "    <tr>\n",
       "      <th>75014</th>\n",
       "      <td>The Panic Channel</td>\n",
       "      <td>Outsider</td>\n",
       "      <td>Rock</td>\n",
       "      <td>I'm silent\\nin the rolling wake\\nof lucky and ...</td>\n",
       "      <td>0.0</td>\n",
       "      <td>en</td>\n",
       "      <td>silent rolling wake lucky adored ugly blur sid...</td>\n",
       "    </tr>\n",
       "    <tr>\n",
       "      <th>75015</th>\n",
       "      <td>The Panic Channel</td>\n",
       "      <td>Said You'd Be</td>\n",
       "      <td>Rock</td>\n",
       "      <td>smile and pose\\nshaking hands and stealing vot...</td>\n",
       "      <td>0.0</td>\n",
       "      <td>en</td>\n",
       "      <td>smile pose shaking hands stealing votes agree ...</td>\n",
       "    </tr>\n",
       "    <tr>\n",
       "      <th>75016</th>\n",
       "      <td>The Panic Channel</td>\n",
       "      <td>She Won't Last</td>\n",
       "      <td>Rock</td>\n",
       "      <td>she's waiting to fall apart\\nblind to how bad ...</td>\n",
       "      <td>0.0</td>\n",
       "      <td>en</td>\n",
       "      <td>waiting fall apart blind bad things know last ...</td>\n",
       "    </tr>\n",
       "    <tr>\n",
       "      <th>75017</th>\n",
       "      <td>The Panic Channel</td>\n",
       "      <td>Teahouse Of The Spirits</td>\n",
       "      <td>Rock</td>\n",
       "      <td>special guest will you come tonight\\nbrief vis...</td>\n",
       "      <td>0.0</td>\n",
       "      <td>en</td>\n",
       "      <td>special guest come tonight brief visit side pa...</td>\n",
       "    </tr>\n",
       "    <tr>\n",
       "      <th>75018</th>\n",
       "      <td>The Panic Channel</td>\n",
       "      <td>Why Cry</td>\n",
       "      <td>Rock</td>\n",
       "      <td>I've been feeling lonesome\\nI'm down, don't kn...</td>\n",
       "      <td>0.0</td>\n",
       "      <td>en</td>\n",
       "      <td>feeling lonesome know let lie plant seeds insi...</td>\n",
       "    </tr>\n",
       "  </tbody>\n",
       "</table>\n",
       "<p>75019 rows × 7 columns</p>\n",
       "</div>"
      ],
      "text/plain": [
       "                  Artist                                              SName  \\\n",
       "0          Ivete Sangalo                                   Careless Whisper   \n",
       "1          Ivete Sangalo  Could You Be Loved / Citação Musical do Rap: S...   \n",
       "2          Ivete Sangalo                             Cruisin' (Part. Saulo)   \n",
       "3          Ivete Sangalo                                               Easy   \n",
       "4          Ivete Sangalo                  For Your Babies (The Voice cover)   \n",
       "...                  ...                                                ...   \n",
       "75014  The Panic Channel                                           Outsider   \n",
       "75015  The Panic Channel                                      Said You'd Be   \n",
       "75016  The Panic Channel                                     She Won't Last   \n",
       "75017  The Panic Channel                            Teahouse Of The Spirits   \n",
       "75018  The Panic Channel                                            Why Cry   \n",
       "\n",
       "      Genre                                              Lyric  Popularity  \\\n",
       "0       Pop  I feel so unsure\\nAs I take your hand and lead...         4.4   \n",
       "1       Pop  Don't let them fool, ya\\nOr even try to school...         4.4   \n",
       "2       Pop  Baby, let's cruise, away from here\\nDon't be c...         4.4   \n",
       "3       Pop  Know it sounds funny\\nBut, I just can't stand ...         4.4   \n",
       "4       Pop  You've got that look again\\nThe one I hoped I ...         4.4   \n",
       "...     ...                                                ...         ...   \n",
       "75014  Rock  I'm silent\\nin the rolling wake\\nof lucky and ...         0.0   \n",
       "75015  Rock  smile and pose\\nshaking hands and stealing vot...         0.0   \n",
       "75016  Rock  she's waiting to fall apart\\nblind to how bad ...         0.0   \n",
       "75017  Rock  special guest will you come tonight\\nbrief vis...         0.0   \n",
       "75018  Rock  I've been feeling lonesome\\nI'm down, don't kn...         0.0   \n",
       "\n",
       "      Language                                      Cleaned_Lyric  \n",
       "0           en  feel unsure take hand lead dance floor music d...  \n",
       "1           en  let fool ya even try school ya oh got mind go ...  \n",
       "2           en  baby let cruise away confused way clear want g...  \n",
       "3           en  know sounds funny stand pain girl leaving tomo...  \n",
       "4           en  got look one hoped lad face beaming smile got ...  \n",
       "...        ...                                                ...  \n",
       "75014       en  silent rolling wake lucky adored ugly blur sid...  \n",
       "75015       en  smile pose shaking hands stealing votes agree ...  \n",
       "75016       en  waiting fall apart blind bad things know last ...  \n",
       "75017       en  special guest come tonight brief visit side pa...  \n",
       "75018       en  feeling lonesome know let lie plant seeds insi...  \n",
       "\n",
       "[75019 rows x 7 columns]"
      ]
     },
     "execution_count": 11,
     "metadata": {},
     "output_type": "execute_result"
    }
   ],
   "source": [
    "# reset indices\n",
    "df_english_top_5_genres = df_english_top_5_genres.reset_index(drop = True)\n",
    "df_english_top_5_genres"
   ]
  },
  {
   "cell_type": "markdown",
   "metadata": {
    "id": "cyrTIGWqKfcg"
   },
   "source": [
    "#### Label Creation"
   ]
  },
  {
   "cell_type": "code",
   "execution_count": 12,
   "metadata": {
    "colab": {
     "base_uri": "https://localhost:8080/"
    },
    "id": "nbpB7BD7Jzzh",
    "outputId": "d934f705-a2f0-48c3-8017-7e091f3ec222"
   },
   "outputs": [
    {
     "name": "stdout",
     "output_type": "stream",
     "text": [
      "Length of Labels List:  110690\n"
     ]
    }
   ],
   "source": [
    "# create labels\n",
    "genre_labels = []\n",
    "for genre in df_english_top_10_genres['Genre'].tolist():\n",
    "  genre_labels.append(top_10_genres.index(genre))\n",
    "\n",
    "print(\"Length of Labels List: \", len(genre_labels))"
   ]
  },
  {
   "cell_type": "code",
   "execution_count": 13,
   "metadata": {
    "colab": {
     "base_uri": "https://localhost:8080/"
    },
    "id": "6wip677fQthv",
    "outputId": "09837f91-320a-4842-8c92-ada5e92c9175"
   },
   "outputs": [
    {
     "name": "stdout",
     "output_type": "stream",
     "text": [
      "0    25177\n",
      "1    13759\n",
      "2    13496\n",
      "3    12998\n",
      "4     9589\n",
      "5     9019\n",
      "6     8411\n",
      "7     7377\n",
      "8     5555\n",
      "9     5309\n",
      "Name: Label, dtype: int64\n"
     ]
    }
   ],
   "source": [
    "df_english_top_10_genres['Label'] = genre_labels\n",
    "print(df_english_top_10_genres['Label'].value_counts())"
   ]
  },
  {
   "cell_type": "markdown",
   "metadata": {
    "id": "Ew2R3kKog3Si"
   },
   "source": [
    "#### Balancing Dataset"
   ]
  },
  {
   "cell_type": "code",
   "execution_count": 14,
   "metadata": {
    "id": "iMvUxqttVqyU",
    "outputId": "961cc9ac-c54a-44bc-b1dc-dd31ede5bcbe"
   },
   "outputs": [
    {
     "data": {
      "text/plain": [
       "R&B                 2000\n",
       "Country             2000\n",
       "Rock Alternativo    2000\n",
       "Hip Hop             2000\n",
       "Pop                 2000\n",
       "Rap                 2000\n",
       "Indie               2000\n",
       "Rock                2000\n",
       "Pop-Rock            2000\n",
       "Heavy Metal         2000\n",
       "Name: Genre, dtype: int64"
      ]
     },
     "execution_count": 14,
     "metadata": {},
     "output_type": "execute_result"
    }
   ],
   "source": [
    "# create a balanced dataset starting with top genre\n",
    "df_balanced = df_english_top_10_genres[df_english_top_10_genres.Genre == top_10_genres[0]].sample(2000)\n",
    "\n",
    "# get n random rows from each of the other top genres\n",
    "for genre in top_10_genres[1:]:\n",
    "  df_genre = df_english_top_10_genres[df_english_top_10_genres.Genre == genre].sample(2000)\n",
    "  df_balanced = pd.concat([df_balanced, df_genre], ignore_index = True)\n",
    "\n",
    "# ensure dataset is balanced\n",
    "df_balanced['Genre'].value_counts()"
   ]
  },
  {
   "cell_type": "code",
   "execution_count": 15,
   "metadata": {
    "id": "fPiXh9xYg3c9"
   },
   "outputs": [],
   "source": [
    "# # get n random rows from each of the 5 top genre\n",
    "# df_rock = df_english_top_5_genres[df_english_top_5_genres.Genre == \"Rock\"].sample(4000)\n",
    "# df_pop = df_english_top_5_genres[df_english_top_5_genres.Genre == \"Pop\"].sample(4000)\n",
    "# df_heavy_metal = df_english_top_5_genres[df_english_top_5_genres.Genre == \"Heavy Metal\"].sample(4000)\n",
    "# df_indie = df_english_top_5_genres[df_english_top_5_genres.Genre == \"Indie\"].sample(4000)\n",
    "# df_rap = df_english_top_5_genres[df_english_top_5_genres.Genre == \"Rap\"].sample(4000)"
   ]
  },
  {
   "cell_type": "code",
   "execution_count": 16,
   "metadata": {
    "id": "br8pJmr22rTa"
   },
   "outputs": [],
   "source": [
    "# df_balanced = pd.concat([df_rock, df_pop, df_heavy_metal, df_indie, df_rap], ignore_index = True)\n",
    "\n",
    "# ensure dataset is balanced\n",
    "# df_balanced['Genre'].value_counts()"
   ]
  },
  {
   "cell_type": "markdown",
   "metadata": {
    "id": "OvgGQEQxRqQz"
   },
   "source": [
    "#### Tokenization and Encoding"
   ]
  },
  {
   "cell_type": "code",
   "execution_count": 17,
   "metadata": {
    "colab": {
     "base_uri": "https://localhost:8080/"
    },
    "id": "5YK0zftTl4yx",
    "outputId": "847b64e2-ab8a-4fbe-8bad-39b4cc5a3dc7"
   },
   "outputs": [
    {
     "name": "stdout",
     "output_type": "stream",
     "text": [
      "Length of Tokens List:  20000\n"
     ]
    }
   ],
   "source": [
    "lyrics = df_balanced['Cleaned_Lyric'].tolist()\n",
    "\n",
    "tokens = []\n",
    "for lyric in lyrics:\n",
    "  try:\n",
    "    words = word_tokenize(lyric)\n",
    "  except:\n",
    "    print(lyric)\n",
    "\n",
    "  tokens.append(words)\n",
    "\n",
    "print(\"Length of Tokens List: \", len(tokens))"
   ]
  },
  {
   "cell_type": "code",
   "execution_count": 18,
   "metadata": {
    "colab": {
     "base_uri": "https://localhost:8080/"
    },
    "id": "cs3p4z_Lk7uB",
    "outputId": "77b03822-051a-4ad0-c0fd-51f4f032b3e0"
   },
   "outputs": [
    {
     "name": "stdout",
     "output_type": "stream",
     "text": [
      "Length of Encoded Tokens:  20000\n"
     ]
    }
   ],
   "source": [
    "encoded_tokens = []\n",
    "\n",
    "# for every lyric\n",
    "for line in tokens:\n",
    "  encoded_line = []\n",
    "\n",
    "  # for every word in lyric\n",
    "  for word in line:\n",
    "    # set to id value\n",
    "    encoded_line.append(word_to_id.get(word))\n",
    "\n",
    "  encoded_tokens.append(encoded_line)\n",
    "\n",
    "print(\"Length of Encoded Tokens: \", len(encoded_tokens))"
   ]
  },
  {
   "cell_type": "markdown",
   "metadata": {
    "id": "r3yoGuG_xoZm"
   },
   "source": [
    "#### Padding"
   ]
  },
  {
   "cell_type": "code",
   "execution_count": 19,
   "metadata": {
    "id": "D1tQI-3Dxokn"
   },
   "outputs": [],
   "source": [
    "# get max length in list\n",
    "max_length = len(max(encoded_tokens, key = len))\n",
    "# pad training data\n",
    "X = pad_sequences(encoded_tokens, maxlen = max_length)"
   ]
  },
  {
   "cell_type": "markdown",
   "metadata": {
    "id": "TVGjWVP3KiBK"
   },
   "source": [
    "#### Data Split"
   ]
  },
  {
   "cell_type": "code",
   "execution_count": 20,
   "metadata": {
    "id": "TyfA7ugdPWrf"
   },
   "outputs": [],
   "source": [
    "# convert to numpy arrays\n",
    "X = np.array(X)\n",
    "y = np.array(df_balanced['Label'].tolist())\n",
    "\n",
    "# one hot encode labels\n",
    "y = OneHotEncoder().fit_transform(y.reshape(-1, 1)).toarray()"
   ]
  },
  {
   "cell_type": "code",
   "execution_count": 21,
   "metadata": {
    "id": "tgj5tsOaJz2F"
   },
   "outputs": [],
   "source": [
    "X_train, X_test, y_train, y_test = train_test_split(\n",
    "    X,\n",
    "    y,\n",
    "    random_state = 42,\n",
    "    test_size = 0.3,\n",
    "    shuffle = True)"
   ]
  },
  {
   "cell_type": "markdown",
   "metadata": {
    "id": "u8hUrbsLQg4D"
   },
   "source": [
    "### Global Variables"
   ]
  },
  {
   "cell_type": "code",
   "execution_count": 22,
   "metadata": {
    "id": "FhlMHPufQi-J"
   },
   "outputs": [],
   "source": [
    "EPOCHS = 15\n",
    "DROPOUT = 0.2\n",
    "LEARNING_RATE = 0.003\n",
    "BATCH_SIZE = 100\n",
    "\n",
    "VOCAB_SIZE = len(vocabulary)\n",
    "OUTPUT_SIZE = 10\n",
    "N_LAYERS = 2\n",
    "HIDDEN_DIM = 128\n",
    "EMBEDDING_DIM = 100"
   ]
  },
  {
   "cell_type": "markdown",
   "metadata": {
    "id": "pQHCODHQLZFl"
   },
   "source": [
    "### Model 1: Removing Global Average Pooling"
   ]
  },
  {
   "cell_type": "markdown",
   "metadata": {
    "id": "vnWZZ7zNG80U"
   },
   "source": [
    "#### Model Creation"
   ]
  },
  {
   "cell_type": "code",
   "execution_count": 23,
   "metadata": {
    "id": "Ip-MEL9aG_nv"
   },
   "outputs": [],
   "source": [
    "def build_model_1(X):\n",
    "\n",
    "  # set input layer\n",
    "  input_layer = tf.keras.Input((X.shape[1],))\n",
    "\n",
    "  # add embedding layer\n",
    "  m = tf.keras.layers.Embedding(VOCAB_SIZE, EMBEDDING_DIM, weights = [embedding_matrix])(input_layer)\n",
    "\n",
    "  # add LSTM layer\n",
    "  m = tf.keras.layers.LSTM(HIDDEN_DIM, return_sequences = False)(m)\n",
    "\n",
    "  # add attention layer\n",
    "  m = tf.keras.layers.Attention()([m, m])\n",
    "\n",
    "  # add dropout layer\n",
    "  m = tf.keras.layers.Dropout(DROPOUT)(m)\n",
    "\n",
    "  # add linear layer\n",
    "  m = tf.keras.layers.Dense(OUTPUT_SIZE, activation='softmax')(m)\n",
    "\n",
    "  # build model\n",
    "  model = tf.keras.models.Model(inputs = input_layer, outputs = m)\n",
    "\n",
    "  # compile model\n",
    "  model.compile(loss = 'categorical_crossentropy', optimizer = 'adam', metrics = ['AUC', 'Precision', 'Accuracy', 'Recall'])\n",
    "\n",
    "  return model"
   ]
  },
  {
   "cell_type": "code",
   "execution_count": 24,
   "metadata": {
    "colab": {
     "base_uri": "https://localhost:8080/"
    },
    "id": "oOeCNwhxR11I",
    "outputId": "5e1f61f1-b7b5-419b-e1df-0136a22de3f7"
   },
   "outputs": [
    {
     "name": "stdout",
     "output_type": "stream",
     "text": [
      "Model: \"model\"\n",
      "__________________________________________________________________________________________________\n",
      " Layer (type)                Output Shape                 Param #   Connected to                  \n",
      "==================================================================================================\n",
      " input_1 (InputLayer)        [(None, 2115)]               0         []                            \n",
      "                                                                                                  \n",
      " embedding (Embedding)       (None, 2115, 100)            1861260   ['input_1[0][0]']             \n",
      "                                                          0                                       \n",
      "                                                                                                  \n",
      " lstm (LSTM)                 (None, 128)                  117248    ['embedding[0][0]']           \n",
      "                                                                                                  \n",
      " attention (Attention)       (None, 128)                  0         ['lstm[0][0]',                \n",
      "                                                                     'lstm[0][0]']                \n",
      "                                                                                                  \n",
      " dropout (Dropout)           (None, 128)                  0         ['attention[0][0]']           \n",
      "                                                                                                  \n",
      " dense (Dense)               (None, 10)                   1290      ['dropout[0][0]']             \n",
      "                                                                                                  \n",
      "==================================================================================================\n",
      "Total params: 18731138 (71.45 MB)\n",
      "Trainable params: 18731138 (71.45 MB)\n",
      "Non-trainable params: 0 (0.00 Byte)\n",
      "__________________________________________________________________________________________________\n"
     ]
    }
   ],
   "source": [
    "model_1 = build_model_1(X_train)\n",
    "model_1.summary()"
   ]
  },
  {
   "cell_type": "markdown",
   "metadata": {
    "id": "je6LAySfaFG2"
   },
   "source": [
    "#### Model Execution"
   ]
  },
  {
   "cell_type": "code",
   "execution_count": 25,
   "metadata": {
    "colab": {
     "base_uri": "https://localhost:8080/"
    },
    "id": "pjo6qTFCMLgq",
    "outputId": "0dbf116a-da70-44c9-a949-1ae0b5b36fae"
   },
   "outputs": [
    {
     "name": "stdout",
     "output_type": "stream",
     "text": [
      "Epoch 1/15\n",
      "112/112 [==============================] - 206s 2s/step - loss: 2.2649 - auc: 0.5830 - precision: 0.0000e+00 - Accuracy: 0.1354 - recall: 0.0000e+00 - val_loss: 2.2587 - val_auc: 0.6023 - val_precision: 0.0000e+00 - val_Accuracy: 0.1618 - val_recall: 0.0000e+00\n",
      "Epoch 2/15\n",
      "112/112 [==============================] - 202s 2s/step - loss: 2.1736 - auc: 0.6454 - precision: 0.4333 - Accuracy: 0.1710 - recall: 0.0046 - val_loss: 2.0788 - val_auc: 0.6859 - val_precision: 0.7059 - val_Accuracy: 0.2036 - val_recall: 0.0043\n",
      "Epoch 3/15\n",
      "112/112 [==============================] - 202s 2s/step - loss: 2.1084 - auc: 0.6786 - precision: 0.4981 - Accuracy: 0.1993 - recall: 0.0230 - val_loss: 2.0574 - val_auc: 0.7067 - val_precision: 0.3433 - val_Accuracy: 0.2104 - val_recall: 0.0082\n",
      "Epoch 4/15\n",
      "112/112 [==============================] - 202s 2s/step - loss: 1.9659 - auc: 0.7406 - precision: 0.5873 - Accuracy: 0.2444 - recall: 0.0379 - val_loss: 1.9339 - val_auc: 0.7545 - val_precision: 0.6080 - val_Accuracy: 0.2525 - val_recall: 0.0271\n",
      "Epoch 5/15\n",
      "112/112 [==============================] - 203s 2s/step - loss: 1.8822 - auc: 0.7685 - precision: 0.6024 - Accuracy: 0.2788 - recall: 0.0580 - val_loss: 1.8997 - val_auc: 0.7670 - val_precision: 0.5893 - val_Accuracy: 0.2682 - val_recall: 0.0471\n",
      "Epoch 6/15\n",
      "112/112 [==============================] - 203s 2s/step - loss: 1.8109 - auc: 0.7928 - precision: 0.6527 - Accuracy: 0.3014 - recall: 0.0765 - val_loss: 1.8741 - val_auc: 0.7797 - val_precision: 0.5961 - val_Accuracy: 0.2882 - val_recall: 0.0654\n",
      "Epoch 7/15\n",
      "112/112 [==============================] - 203s 2s/step - loss: 1.7279 - auc: 0.8159 - precision: 0.6985 - Accuracy: 0.3272 - recall: 0.0900 - val_loss: 1.8693 - val_auc: 0.7790 - val_precision: 0.5733 - val_Accuracy: 0.2807 - val_recall: 0.0796\n",
      "Epoch 8/15\n",
      "112/112 [==============================] - 202s 2s/step - loss: 1.6611 - auc: 0.8331 - precision: 0.6741 - Accuracy: 0.3582 - recall: 0.1210 - val_loss: 1.8489 - val_auc: 0.7916 - val_precision: 0.5416 - val_Accuracy: 0.3096 - val_recall: 0.0814\n",
      "Epoch 9/15\n",
      "112/112 [==============================] - 202s 2s/step - loss: 1.6095 - auc: 0.8453 - precision: 0.6997 - Accuracy: 0.3713 - recall: 0.1287 - val_loss: 1.9556 - val_auc: 0.7697 - val_precision: 0.4536 - val_Accuracy: 0.2682 - val_recall: 0.1046\n",
      "Epoch 10/15\n",
      "112/112 [==============================] - 201s 2s/step - loss: 1.5357 - auc: 0.8616 - precision: 0.7116 - Accuracy: 0.4013 - recall: 0.1498 - val_loss: 1.8491 - val_auc: 0.7962 - val_precision: 0.5185 - val_Accuracy: 0.3082 - val_recall: 0.1204\n",
      "Epoch 11/15\n",
      "112/112 [==============================] - 201s 2s/step - loss: 1.4399 - auc: 0.8804 - precision: 0.7350 - Accuracy: 0.4349 - recall: 0.1723 - val_loss: 1.8797 - val_auc: 0.7976 - val_precision: 0.5708 - val_Accuracy: 0.3182 - val_recall: 0.0964\n",
      "Epoch 12/15\n",
      "112/112 [==============================] - 202s 2s/step - loss: 1.3491 - auc: 0.8964 - precision: 0.7270 - Accuracy: 0.4729 - recall: 0.2042 - val_loss: 1.9209 - val_auc: 0.7945 - val_precision: 0.5377 - val_Accuracy: 0.3071 - val_recall: 0.1121\n",
      "Epoch 13/15\n",
      "112/112 [==============================] - 201s 2s/step - loss: 1.2897 - auc: 0.9055 - precision: 0.7424 - Accuracy: 0.4968 - recall: 0.2398 - val_loss: 1.9649 - val_auc: 0.7938 - val_precision: 0.5240 - val_Accuracy: 0.3007 - val_recall: 0.1014\n",
      "Epoch 14/15\n",
      "112/112 [==============================] - 201s 2s/step - loss: 1.1924 - auc: 0.9200 - precision: 0.7380 - Accuracy: 0.5361 - recall: 0.2895 - val_loss: 2.0226 - val_auc: 0.7880 - val_precision: 0.4597 - val_Accuracy: 0.3079 - val_recall: 0.1343\n",
      "Epoch 15/15\n",
      "112/112 [==============================] - 202s 2s/step - loss: 1.0878 - auc: 0.9337 - precision: 0.7449 - Accuracy: 0.5870 - recall: 0.3687 - val_loss: 2.1064 - val_auc: 0.7917 - val_precision: 0.4255 - val_Accuracy: 0.3154 - val_recall: 0.1868\n"
     ]
    }
   ],
   "source": [
    "history_1 = model_1.fit(X_train, y_train, batch_size = BATCH_SIZE, epochs = EPOCHS, validation_split = 0.2)"
   ]
  },
  {
   "cell_type": "markdown",
   "metadata": {
    "id": "sJjielitxYmT"
   },
   "source": [
    "#### Predictions and Results"
   ]
  },
  {
   "cell_type": "code",
   "execution_count": 26,
   "metadata": {
    "id": "NRc3hu6qxUF1",
    "outputId": "92f94c31-d7b7-45f6-d0b1-98b01b149f21"
   },
   "outputs": [
    {
     "name": "stdout",
     "output_type": "stream",
     "text": [
      "188/188 [==============================] - 65s 341ms/step\n"
     ]
    }
   ],
   "source": [
    "y_pred_1 = model_1.predict(X_test)"
   ]
  },
  {
   "cell_type": "code",
   "execution_count": 27,
   "metadata": {
    "id": "0ebwk9aKxUPV",
    "outputId": "9739e0f0-6171-4995-b210-365e6539526c"
   },
   "outputs": [
    {
     "name": "stdout",
     "output_type": "stream",
     "text": [
      "y_test:  [[0. 0. 0. ... 0. 0. 0.]\n",
      " [0. 1. 0. ... 0. 0. 0.]\n",
      " [0. 0. 0. ... 0. 0. 0.]\n",
      " ...\n",
      " [0. 0. 0. ... 0. 0. 1.]\n",
      " [0. 0. 0. ... 0. 0. 0.]\n",
      " [0. 0. 0. ... 0. 0. 0.]]\n"
     ]
    }
   ],
   "source": [
    "print(\"y_test: \", y_test)"
   ]
  },
  {
   "cell_type": "code",
   "execution_count": 28,
   "metadata": {
    "id": "tVZ0441fxdFY",
    "outputId": "7d8af2fd-88f4-4154-b6e2-94b0205c9b45"
   },
   "outputs": [
    {
     "name": "stdout",
     "output_type": "stream",
     "text": [
      "y_pred_1:  [[1.84475943e-01 2.02355981e-01 3.93034238e-03 ... 1.58638656e-01\n",
      "  2.64508892e-02 4.39025089e-02]\n",
      " [4.09240508e-03 1.05279781e-01 2.13518715e-03 ... 3.62551794e-03\n",
      "  3.35655455e-03 5.10680377e-01]\n",
      " [1.80737596e-04 2.06223759e-03 7.40608375e-04 ... 1.95334960e-05\n",
      "  2.34375708e-04 2.65906565e-02]\n",
      " ...\n",
      " [1.48445396e-02 7.18413949e-01 1.54314516e-03 ... 1.17505286e-02\n",
      "  5.06219408e-03 1.09161675e-01]\n",
      " [3.95333245e-02 5.33417881e-01 2.72707548e-03 ... 1.54783875e-02\n",
      "  2.60592122e-02 1.39090911e-01]\n",
      " [3.12012126e-04 2.38999515e-03 7.53837638e-04 ... 3.53936957e-05\n",
      "  2.46332202e-04 4.00980711e-02]]\n"
     ]
    }
   ],
   "source": [
    "print(\"y_pred_1: \", y_pred_1)"
   ]
  },
  {
   "cell_type": "code",
   "execution_count": 29,
   "metadata": {
    "id": "VKKU6eL8ufyF"
   },
   "outputs": [],
   "source": [
    "loss_1_train = history_1.history['loss']\n",
    "loss_1_val = history_1.history['val_loss']\n",
    "\n",
    "auc_1_train = history_1.history['auc']\n",
    "auc_1_val = history_1.history['val_auc']\n",
    "\n",
    "recall_1_train = history_1.history['recall']\n",
    "recall_1_val = history_1.history['val_recall']\n",
    "\n",
    "precision_1_train = history_1.history['precision']\n",
    "precision_1_val = history_1.history['val_precision']\n",
    "\n",
    "accuracy_1_train = history_1.history['Accuracy']\n",
    "accuracy_1_val = history_1.history['val_Accuracy']"
   ]
  },
  {
   "cell_type": "markdown",
   "metadata": {
    "id": "DDq40qubMiJl"
   },
   "source": [
    "### Model 2: Removing Attention and Global Average Pooling"
   ]
  },
  {
   "cell_type": "markdown",
   "metadata": {
    "id": "tD8RaDzsS0h_"
   },
   "source": [
    "#### Model Creation"
   ]
  },
  {
   "cell_type": "code",
   "execution_count": 30,
   "metadata": {
    "id": "wLUEsyoWO9FN"
   },
   "outputs": [],
   "source": [
    "def build_model_2(X):\n",
    "\n",
    "  # set input layer\n",
    "  input_layer = tf.keras.Input((X.shape[1],))\n",
    "\n",
    "  # add embedding layer\n",
    "  m = tf.keras.layers.Embedding(VOCAB_SIZE, EMBEDDING_DIM, weights=[embedding_matrix])(input_layer)\n",
    "\n",
    "  # add LSTM layer\n",
    "  m = tf.keras.layers.LSTM(HIDDEN_DIM, return_sequences=False)(m)\n",
    "\n",
    "  # add dropout layer\n",
    "  m = tf.keras.layers.Dropout(DROPOUT)(m)\n",
    "\n",
    "  # add linear layer\n",
    "  m = tf.keras.layers.Dense(OUTPUT_SIZE, activation='softmax')(m)\n",
    "\n",
    "  # build model\n",
    "  model = tf.keras.models.Model(inputs = input_layer, outputs = m)\n",
    "\n",
    "  # compile model\n",
    "  model.compile(loss='categorical_crossentropy', optimizer='adam', metrics=['AUC', 'Precision', 'Accuracy', 'Recall'])\n",
    "\n",
    "  return model"
   ]
  },
  {
   "cell_type": "code",
   "execution_count": 31,
   "metadata": {
    "id": "Fcq9KU4XS-Ki",
    "outputId": "0c521422-6492-4aeb-d2f2-3c154cbe411c"
   },
   "outputs": [
    {
     "name": "stdout",
     "output_type": "stream",
     "text": [
      "Model: \"model_1\"\n",
      "_________________________________________________________________\n",
      " Layer (type)                Output Shape              Param #   \n",
      "=================================================================\n",
      " input_2 (InputLayer)        [(None, 2115)]            0         \n",
      "                                                                 \n",
      " embedding_1 (Embedding)     (None, 2115, 100)         18612600  \n",
      "                                                                 \n",
      " lstm_1 (LSTM)               (None, 128)               117248    \n",
      "                                                                 \n",
      " dropout_1 (Dropout)         (None, 128)               0         \n",
      "                                                                 \n",
      " dense_1 (Dense)             (None, 10)                1290      \n",
      "                                                                 \n",
      "=================================================================\n",
      "Total params: 18731138 (71.45 MB)\n",
      "Trainable params: 18731138 (71.45 MB)\n",
      "Non-trainable params: 0 (0.00 Byte)\n",
      "_________________________________________________________________\n"
     ]
    }
   ],
   "source": [
    "model_2 = build_model_2(X_train)\n",
    "model_2.summary()"
   ]
  },
  {
   "cell_type": "markdown",
   "metadata": {
    "id": "2faPC3tuS8Vj"
   },
   "source": [
    "#### Model Execution"
   ]
  },
  {
   "cell_type": "code",
   "execution_count": 32,
   "metadata": {
    "id": "lA3eg6kES8IV",
    "outputId": "d02f65fd-40ec-4732-a1a1-e9ac26b99e50"
   },
   "outputs": [
    {
     "name": "stdout",
     "output_type": "stream",
     "text": [
      "Epoch 1/15\n",
      "112/112 [==============================] - 204s 2s/step - loss: 2.1826 - auc: 0.6414 - precision: 0.5489 - Accuracy: 0.1823 - recall: 0.0090 - val_loss: 2.1089 - val_auc: 0.6803 - val_precision: 0.7455 - val_Accuracy: 0.2200 - val_recall: 0.0146\n",
      "Epoch 2/15\n",
      "112/112 [==============================] - 202s 2s/step - loss: 2.0617 - auc: 0.7063 - precision: 0.5413 - Accuracy: 0.2409 - recall: 0.0404 - val_loss: 1.9851 - val_auc: 0.7425 - val_precision: 0.4762 - val_Accuracy: 0.2718 - val_recall: 0.0036\n",
      "Epoch 3/15\n",
      "112/112 [==============================] - 202s 2s/step - loss: 1.9935 - auc: 0.7333 - precision: 0.6452 - Accuracy: 0.2598 - recall: 0.0484 - val_loss: 1.9303 - val_auc: 0.7613 - val_precision: 0.5948 - val_Accuracy: 0.2718 - val_recall: 0.0650\n",
      "Epoch 4/15\n",
      "112/112 [==============================] - 202s 2s/step - loss: 1.7870 - auc: 0.8015 - precision: 0.6599 - Accuracy: 0.3309 - recall: 0.0896 - val_loss: 1.8682 - val_auc: 0.7805 - val_precision: 0.5515 - val_Accuracy: 0.2900 - val_recall: 0.0861\n",
      "Epoch 5/15\n",
      "112/112 [==============================] - 202s 2s/step - loss: 1.6995 - auc: 0.8253 - precision: 0.6613 - Accuracy: 0.3627 - recall: 0.1239 - val_loss: 1.8254 - val_auc: 0.7968 - val_precision: 0.4979 - val_Accuracy: 0.3093 - val_recall: 0.1286\n",
      "Epoch 6/15\n",
      "112/112 [==============================] - 202s 2s/step - loss: 1.5686 - auc: 0.8552 - precision: 0.7233 - Accuracy: 0.4208 - recall: 0.1666 - val_loss: 1.7972 - val_auc: 0.8035 - val_precision: 0.5341 - val_Accuracy: 0.3136 - val_recall: 0.1118\n",
      "Epoch 7/15\n",
      "112/112 [==============================] - 202s 2s/step - loss: 1.4760 - auc: 0.8729 - precision: 0.7506 - Accuracy: 0.4563 - recall: 0.2163 - val_loss: 1.8913 - val_auc: 0.7789 - val_precision: 0.5000 - val_Accuracy: 0.3032 - val_recall: 0.1321\n",
      "Epoch 8/15\n",
      "112/112 [==============================] - 202s 2s/step - loss: 1.4508 - auc: 0.8776 - precision: 0.7752 - Accuracy: 0.4795 - recall: 0.2436 - val_loss: 1.8942 - val_auc: 0.7963 - val_precision: 0.4708 - val_Accuracy: 0.3175 - val_recall: 0.1586\n",
      "Epoch 9/15\n",
      "112/112 [==============================] - 200s 2s/step - loss: 1.2016 - auc: 0.9185 - precision: 0.8097 - Accuracy: 0.5761 - recall: 0.3529 - val_loss: 1.9358 - val_auc: 0.7961 - val_precision: 0.4539 - val_Accuracy: 0.3164 - val_recall: 0.1846\n",
      "Epoch 10/15\n",
      "112/112 [==============================] - 202s 2s/step - loss: 1.0317 - auc: 0.9402 - precision: 0.8259 - Accuracy: 0.6379 - recall: 0.4624 - val_loss: 2.0951 - val_auc: 0.7878 - val_precision: 0.4272 - val_Accuracy: 0.3243 - val_recall: 0.2304\n",
      "Epoch 11/15\n",
      "112/112 [==============================] - 202s 2s/step - loss: 0.8507 - auc: 0.9592 - precision: 0.8521 - Accuracy: 0.7103 - recall: 0.5762 - val_loss: 2.2481 - val_auc: 0.7798 - val_precision: 0.3796 - val_Accuracy: 0.3136 - val_recall: 0.2307\n",
      "Epoch 12/15\n",
      "112/112 [==============================] - 202s 2s/step - loss: 0.6950 - auc: 0.9721 - precision: 0.8765 - Accuracy: 0.7673 - recall: 0.6736 - val_loss: 2.3476 - val_auc: 0.7728 - val_precision: 0.3929 - val_Accuracy: 0.3225 - val_recall: 0.2543\n",
      "Epoch 13/15\n",
      "112/112 [==============================] - 202s 2s/step - loss: 0.5505 - auc: 0.9823 - precision: 0.8990 - Accuracy: 0.8214 - recall: 0.7513 - val_loss: 2.6111 - val_auc: 0.7525 - val_precision: 0.3713 - val_Accuracy: 0.3189 - val_recall: 0.2629\n",
      "Epoch 14/15\n",
      "112/112 [==============================] - 201s 2s/step - loss: 0.4329 - auc: 0.9886 - precision: 0.9233 - Accuracy: 0.8630 - recall: 0.8133 - val_loss: 2.8033 - val_auc: 0.7461 - val_precision: 0.3609 - val_Accuracy: 0.3221 - val_recall: 0.2807\n",
      "Epoch 15/15\n",
      "112/112 [==============================] - 202s 2s/step - loss: 0.3472 - auc: 0.9921 - precision: 0.9350 - Accuracy: 0.8902 - recall: 0.8545 - val_loss: 3.0482 - val_auc: 0.7326 - val_precision: 0.3443 - val_Accuracy: 0.3157 - val_recall: 0.2804\n"
     ]
    }
   ],
   "source": [
    "history_2 = model_2.fit(X_train, y_train, batch_size = BATCH_SIZE, epochs = EPOCHS, validation_split = 0.2)"
   ]
  },
  {
   "cell_type": "markdown",
   "metadata": {
    "id": "hgvt0digxiaz"
   },
   "source": [
    "#### Predictions and Results"
   ]
  },
  {
   "cell_type": "code",
   "execution_count": 33,
   "metadata": {
    "id": "H6cNV_O8xjGg",
    "outputId": "4f56ae82-bc54-4ee5-c301-c674c1d5a6a0"
   },
   "outputs": [
    {
     "name": "stdout",
     "output_type": "stream",
     "text": [
      "188/188 [==============================] - 64s 339ms/step\n"
     ]
    }
   ],
   "source": [
    "y_pred_2 = model_2.predict(X_test)"
   ]
  },
  {
   "cell_type": "code",
   "execution_count": 34,
   "metadata": {
    "id": "JXaEpog4xjMp",
    "outputId": "888fde5d-90dd-455a-f6d7-4a2d9e501a31"
   },
   "outputs": [
    {
     "name": "stdout",
     "output_type": "stream",
     "text": [
      "y_test:  [[0. 0. 0. ... 0. 0. 0.]\n",
      " [0. 1. 0. ... 0. 0. 0.]\n",
      " [0. 0. 0. ... 0. 0. 0.]\n",
      " ...\n",
      " [0. 0. 0. ... 0. 0. 1.]\n",
      " [0. 0. 0. ... 0. 0. 0.]\n",
      " [0. 0. 0. ... 0. 0. 0.]]\n"
     ]
    }
   ],
   "source": [
    "print(\"y_test: \", y_test)"
   ]
  },
  {
   "cell_type": "code",
   "execution_count": 35,
   "metadata": {
    "id": "wZnSfd78xjTd",
    "outputId": "e2b1d627-9084-4f20-b9d7-0caef5746dde"
   },
   "outputs": [
    {
     "name": "stdout",
     "output_type": "stream",
     "text": [
      "y_pred_2:  [[2.05644876e-01 1.17588453e-02 1.20856306e-02 ... 1.38417315e-02\n",
      "  6.59902453e-01 6.25237264e-03]\n",
      " [2.32737308e-04 4.66806926e-02 6.01748761e-05 ... 3.59707192e-04\n",
      "  1.58432973e-04 9.42067206e-01]\n",
      " [2.24521864e-04 1.74717954e-03 8.53848469e-04 ... 1.82452844e-04\n",
      "  1.42914447e-04 1.68402656e-03]\n",
      " ...\n",
      " [6.90498762e-03 8.42716873e-01 6.30041771e-03 ... 1.27294206e-03\n",
      "  5.77804912e-03 9.22167152e-02]\n",
      " [5.53889945e-03 3.99019420e-01 2.01084302e-03 ... 3.55816772e-03\n",
      "  4.96944971e-03 4.48363453e-01]\n",
      " [1.50909807e-04 8.10817163e-03 3.56965465e-03 ... 5.39295324e-05\n",
      "  1.46512233e-04 3.14956158e-03]]\n"
     ]
    }
   ],
   "source": [
    "print(\"y_pred_2: \", y_pred_2)"
   ]
  },
  {
   "cell_type": "code",
   "execution_count": 36,
   "metadata": {
    "id": "-m6H_lMzufyG"
   },
   "outputs": [],
   "source": [
    "loss_2_train = history_2.history['loss']\n",
    "loss_2_val = history_2.history['val_loss']\n",
    "\n",
    "auc_2_train = history_2.history['auc']\n",
    "auc_2_val = history_2.history['val_auc']\n",
    "\n",
    "recall_2_train = history_2.history['recall'],\n",
    "recall_2_val = history_2.history['val_recall']\n",
    "\n",
    "precision_2_train = history_2.history['precision'],\n",
    "precision_2_val = history_2.history['val_precision']\n",
    "\n",
    "accuracy_2_train = history_2.history['Accuracy']\n",
    "accuracy_2_val = history_2.history['val_Accuracy']"
   ]
  },
  {
   "cell_type": "markdown",
   "metadata": {
    "id": "pNxNi80qufyG"
   },
   "source": [
    "### Model 3: Reducing Hidden Dimension"
   ]
  },
  {
   "cell_type": "markdown",
   "metadata": {
    "id": "6oXTDnq0ufyG"
   },
   "source": [
    "#### Model Creation"
   ]
  },
  {
   "cell_type": "code",
   "execution_count": 37,
   "metadata": {
    "id": "0MpgtmcqufyG"
   },
   "outputs": [],
   "source": [
    "HIDDEN_DIM = 64"
   ]
  },
  {
   "cell_type": "code",
   "execution_count": 38,
   "metadata": {
    "id": "onISvuQUufyG"
   },
   "outputs": [],
   "source": [
    "def build_model_3(X):\n",
    "\n",
    "  # set input layer\n",
    "  input_layer = tf.keras.Input((X.shape[1],))\n",
    "\n",
    "  # add embedding layer\n",
    "  m = tf.keras.layers.Embedding(VOCAB_SIZE, EMBEDDING_DIM, weights=[embedding_matrix])(input_layer)\n",
    "\n",
    "  # add LSTM layer\n",
    "  m = tf.keras.layers.LSTM(HIDDEN_DIM, return_sequences=False)(m)\n",
    "\n",
    "  # add dropout layer\n",
    "  m = tf.keras.layers.Dropout(DROPOUT)(m)\n",
    "\n",
    "  # add linear layer\n",
    "  m = tf.keras.layers.Dense(OUTPUT_SIZE, activation='softmax')(m)\n",
    "\n",
    "  # build model\n",
    "  model = tf.keras.models.Model(inputs = input_layer, outputs = m)\n",
    "\n",
    "  # compile model\n",
    "  model.compile(loss='categorical_crossentropy', optimizer='adam', metrics=['AUC', 'Precision', 'Accuracy', 'Recall'])\n",
    "\n",
    "  return model"
   ]
  },
  {
   "cell_type": "code",
   "execution_count": 39,
   "metadata": {
    "id": "T2rvc5TFufyG",
    "outputId": "837d4117-7292-4ad4-ccdd-856b2cd6668d"
   },
   "outputs": [
    {
     "name": "stdout",
     "output_type": "stream",
     "text": [
      "Model: \"model_2\"\n",
      "_________________________________________________________________\n",
      " Layer (type)                Output Shape              Param #   \n",
      "=================================================================\n",
      " input_3 (InputLayer)        [(None, 2115)]            0         \n",
      "                                                                 \n",
      " embedding_2 (Embedding)     (None, 2115, 100)         18612600  \n",
      "                                                                 \n",
      " lstm_2 (LSTM)               (None, 64)                42240     \n",
      "                                                                 \n",
      " dropout_2 (Dropout)         (None, 64)                0         \n",
      "                                                                 \n",
      " dense_2 (Dense)             (None, 10)                650       \n",
      "                                                                 \n",
      "=================================================================\n",
      "Total params: 18655490 (71.17 MB)\n",
      "Trainable params: 18655490 (71.17 MB)\n",
      "Non-trainable params: 0 (0.00 Byte)\n",
      "_________________________________________________________________\n"
     ]
    }
   ],
   "source": [
    "model_3 = build_model_3(X_train)\n",
    "model_3.summary()"
   ]
  },
  {
   "cell_type": "markdown",
   "metadata": {
    "id": "5PTrMHBGufyH"
   },
   "source": [
    "#### Model Execution"
   ]
  },
  {
   "cell_type": "code",
   "execution_count": 40,
   "metadata": {
    "id": "36iIayzgufyH",
    "outputId": "ea59f1e8-d579-475a-fbfd-b093376f8e23"
   },
   "outputs": [
    {
     "name": "stdout",
     "output_type": "stream",
     "text": [
      "Epoch 1/15\n",
      "112/112 [==============================] - 155s 1s/step - loss: 2.1734 - auc: 0.6477 - precision: 0.6508 - Accuracy: 0.1813 - recall: 0.0037 - val_loss: 1.9816 - val_auc: 0.7390 - val_precision: 0.8367 - val_Accuracy: 0.2589 - val_recall: 0.0146\n",
      "Epoch 2/15\n",
      "112/112 [==============================] - 152s 1s/step - loss: 1.9269 - auc: 0.7606 - precision: 0.6150 - Accuracy: 0.2763 - recall: 0.0425 - val_loss: 1.8725 - val_auc: 0.7769 - val_precision: 0.5990 - val_Accuracy: 0.2800 - val_recall: 0.0432\n",
      "Epoch 3/15\n",
      "112/112 [==============================] - 152s 1s/step - loss: 1.8063 - auc: 0.7978 - precision: 0.6508 - Accuracy: 0.3225 - recall: 0.0759 - val_loss: 1.8285 - val_auc: 0.7918 - val_precision: 0.6667 - val_Accuracy: 0.3068 - val_recall: 0.0600\n",
      "Epoch 4/15\n",
      "112/112 [==============================] - 152s 1s/step - loss: 1.7363 - auc: 0.8165 - precision: 0.6946 - Accuracy: 0.3550 - recall: 0.1037 - val_loss: 1.9713 - val_auc: 0.7478 - val_precision: 0.5782 - val_Accuracy: 0.2521 - val_recall: 0.0779\n",
      "Epoch 5/15\n",
      "112/112 [==============================] - 152s 1s/step - loss: 1.6066 - auc: 0.8478 - precision: 0.7059 - Accuracy: 0.4061 - recall: 0.1479 - val_loss: 1.7798 - val_auc: 0.8069 - val_precision: 0.5837 - val_Accuracy: 0.3157 - val_recall: 0.0946\n",
      "Epoch 6/15\n",
      "112/112 [==============================] - 152s 1s/step - loss: 1.4910 - auc: 0.8718 - precision: 0.7320 - Accuracy: 0.4507 - recall: 0.1854 - val_loss: 1.8454 - val_auc: 0.8019 - val_precision: 0.5046 - val_Accuracy: 0.3132 - val_recall: 0.1357\n",
      "Epoch 7/15\n",
      "112/112 [==============================] - 151s 1s/step - loss: 1.3384 - auc: 0.8991 - precision: 0.7690 - Accuracy: 0.5098 - recall: 0.2461 - val_loss: 1.8055 - val_auc: 0.8093 - val_precision: 0.5303 - val_Accuracy: 0.3250 - val_recall: 0.1314\n",
      "Epoch 8/15\n",
      "112/112 [==============================] - 151s 1s/step - loss: 1.1692 - auc: 0.9242 - precision: 0.7750 - Accuracy: 0.5778 - recall: 0.3407 - val_loss: 1.9201 - val_auc: 0.8008 - val_precision: 0.4411 - val_Accuracy: 0.3154 - val_recall: 0.1739\n",
      "Epoch 9/15\n",
      "112/112 [==============================] - 151s 1s/step - loss: 1.0052 - auc: 0.9439 - precision: 0.7956 - Accuracy: 0.6507 - recall: 0.4745 - val_loss: 2.0211 - val_auc: 0.7906 - val_precision: 0.3950 - val_Accuracy: 0.3029 - val_recall: 0.1961\n",
      "Epoch 10/15\n",
      "112/112 [==============================] - 151s 1s/step - loss: 0.8433 - auc: 0.9604 - precision: 0.8189 - Accuracy: 0.7093 - recall: 0.5883 - val_loss: 2.1087 - val_auc: 0.7904 - val_precision: 0.4052 - val_Accuracy: 0.3214 - val_recall: 0.2336\n",
      "Epoch 11/15\n",
      "112/112 [==============================] - 152s 1s/step - loss: 0.6732 - auc: 0.9736 - precision: 0.8548 - Accuracy: 0.7784 - recall: 0.6948 - val_loss: 2.3006 - val_auc: 0.7823 - val_precision: 0.3740 - val_Accuracy: 0.3204 - val_recall: 0.2593\n",
      "Epoch 12/15\n",
      "112/112 [==============================] - 151s 1s/step - loss: 0.5428 - auc: 0.9823 - precision: 0.8851 - Accuracy: 0.8256 - recall: 0.7678 - val_loss: 2.4834 - val_auc: 0.7703 - val_precision: 0.3505 - val_Accuracy: 0.3121 - val_recall: 0.2621\n",
      "Epoch 13/15\n",
      "112/112 [==============================] - 153s 1s/step - loss: 0.4183 - auc: 0.9888 - precision: 0.9161 - Accuracy: 0.8724 - recall: 0.8307 - val_loss: 2.6559 - val_auc: 0.7588 - val_precision: 0.3422 - val_Accuracy: 0.3136 - val_recall: 0.2675\n",
      "Epoch 14/15\n",
      "112/112 [==============================] - 151s 1s/step - loss: 0.3279 - auc: 0.9927 - precision: 0.9365 - Accuracy: 0.9000 - recall: 0.8699 - val_loss: 2.8769 - val_auc: 0.7439 - val_precision: 0.3416 - val_Accuracy: 0.3125 - val_recall: 0.2789\n",
      "Epoch 15/15\n",
      "112/112 [==============================] - 151s 1s/step - loss: 0.2549 - auc: 0.9954 - precision: 0.9532 - Accuracy: 0.9261 - recall: 0.9038 - val_loss: 3.0428 - val_auc: 0.7358 - val_precision: 0.3447 - val_Accuracy: 0.3136 - val_recall: 0.2882\n"
     ]
    }
   ],
   "source": [
    "history_3 = model_3.fit(X_train, y_train, batch_size = BATCH_SIZE, epochs = EPOCHS, validation_split = 0.2)"
   ]
  },
  {
   "cell_type": "markdown",
   "metadata": {
    "id": "ADOdqRgZx6ww"
   },
   "source": [
    "#### Predictions and Results"
   ]
  },
  {
   "cell_type": "code",
   "execution_count": 41,
   "metadata": {
    "id": "NHRdnBL6x7PH",
    "outputId": "54240099-dfc8-473a-92ce-c93b35921aa8"
   },
   "outputs": [
    {
     "name": "stdout",
     "output_type": "stream",
     "text": [
      "188/188 [==============================] - 45s 240ms/step\n"
     ]
    }
   ],
   "source": [
    "y_pred_3 = model_3.predict(X_test)"
   ]
  },
  {
   "cell_type": "code",
   "execution_count": 42,
   "metadata": {
    "id": "Ciq1-xYCx7Tq",
    "outputId": "88b470a2-301f-4986-fc89-ee1bd939267e"
   },
   "outputs": [
    {
     "name": "stdout",
     "output_type": "stream",
     "text": [
      "y_test:  [[0. 0. 0. ... 0. 0. 0.]\n",
      " [0. 1. 0. ... 0. 0. 0.]\n",
      " [0. 0. 0. ... 0. 0. 0.]\n",
      " ...\n",
      " [0. 0. 0. ... 0. 0. 1.]\n",
      " [0. 0. 0. ... 0. 0. 0.]\n",
      " [0. 0. 0. ... 0. 0. 0.]]\n"
     ]
    }
   ],
   "source": [
    "print(\"y_test: \", y_test)"
   ]
  },
  {
   "cell_type": "code",
   "execution_count": 43,
   "metadata": {
    "id": "Y3xQLfWox7aT",
    "outputId": "bf4da785-69ea-4110-bf8b-e5d004414731"
   },
   "outputs": [
    {
     "name": "stdout",
     "output_type": "stream",
     "text": [
      "y_pred_3:  [[6.6808164e-02 1.4445537e-02 1.6379034e-02 ... 1.4434623e-02\n",
      "  5.2814943e-01 1.0731817e-02]\n",
      " [1.8314313e-04 6.3145712e-02 1.8287348e-04 ... 5.5622245e-04\n",
      "  7.3149211e-05 9.2025542e-01]\n",
      " [4.5956823e-04 6.2261760e-04 2.9479018e-03 ... 1.2583430e-04\n",
      "  5.2296778e-04 3.3426795e-03]\n",
      " ...\n",
      " [4.4881855e-03 8.0746102e-01 2.4177232e-03 ... 3.4022166e-03\n",
      "  8.9299995e-03 8.9608818e-02]\n",
      " [1.6965738e-02 7.9402044e-02 8.7707053e-04 ... 5.2364133e-03\n",
      "  3.1295856e-03 2.5814512e-01]\n",
      " [1.2559988e-05 5.3037179e-04 8.4577152e-04 ... 3.9526451e-05\n",
      "  8.2812170e-05 3.3473091e-03]]\n"
     ]
    }
   ],
   "source": [
    "print(\"y_pred_3: \", y_pred_3)"
   ]
  },
  {
   "cell_type": "code",
   "execution_count": 44,
   "metadata": {
    "id": "4WxybjsIufyH"
   },
   "outputs": [],
   "source": [
    "loss_3_train = history_3.history['loss']\n",
    "loss_3_val = history_3.history['val_loss']\n",
    "\n",
    "auc_3_train = history_3.history['auc']\n",
    "auc_3_val = history_3.history['val_auc']\n",
    "\n",
    "recall_3_train = history_3.history['recall'],\n",
    "recall_3_val = history_3.history['val_recall']\n",
    "\n",
    "precision_3_train = history_3.history['precision'],\n",
    "precision_3_val = history_3.history['val_precision']\n",
    "\n",
    "accuracy_3_train = history_3.history['Accuracy']\n",
    "accuracy_3_val = history_3.history['val_Accuracy']"
   ]
  },
  {
   "cell_type": "markdown",
   "metadata": {
    "id": "6Uzh-8xDaI1o"
   },
   "source": [
    "### Results"
   ]
  },
  {
   "cell_type": "code",
   "execution_count": 45,
   "metadata": {
    "id": "gfLHNYiXufyH",
    "outputId": "877568e4-20c1-406a-cf64-b425e94ff23b"
   },
   "outputs": [
    {
     "name": "stdout",
     "output_type": "stream",
     "text": [
      "[2.2649033069610596, 2.173550844192505, 2.108445405960083, 1.9659450054168701, 1.8822308778762817, 1.810875415802002, 1.7278748750686646, 1.6611212491989136, 1.609483242034912, 1.5357333421707153, 1.4399073123931885, 1.3490930795669556, 1.289699912071228, 1.1923972368240356, 1.0877972841262817]\n",
      "[2.2587296962738037, 2.078836441040039, 2.0574419498443604, 1.9339169263839722, 1.8996585607528687, 1.8740588426589966, 1.8693097829818726, 1.848923683166504, 1.9555810689926147, 1.84909987449646, 1.8796966075897217, 1.920867919921875, 1.9648553133010864, 2.022552251815796, 2.1063883304595947]\n",
      "[0.5830374360084534, 0.6453940868377686, 0.6785920262336731, 0.7406052947044373, 0.7685225605964661, 0.7928234338760376, 0.8159401416778564, 0.8330647945404053, 0.8453092575073242, 0.861638069152832, 0.8804004192352295, 0.8963867425918579, 0.9055421352386475, 0.91995769739151, 0.9336797595024109]\n",
      "[0.6022741794586182, 0.6858975887298584, 0.7066605091094971, 0.7545197010040283, 0.76698899269104, 0.7796503901481628, 0.7789843082427979, 0.791634202003479, 0.7697018384933472, 0.7961908578872681, 0.797603189945221, 0.7944798469543457, 0.7938078045845032, 0.788013756275177, 0.7917071580886841]\n",
      "[0.0, 0.004642857238650322, 0.023035714402794838, 0.037857141345739365, 0.0580357126891613, 0.07651785761117935, 0.09000000357627869, 0.12098214030265808, 0.1287499964237213, 0.1498214304447174, 0.17232142388820648, 0.20419642329216003, 0.2398214340209961, 0.2894642949104309, 0.36866071820259094]\n",
      "[0.0, 0.004285714123398066, 0.008214285597205162, 0.027142856270074844, 0.04714285582304001, 0.06535714119672775, 0.07964285463094711, 0.08142857253551483, 0.10464286059141159, 0.12035714089870453, 0.09642857313156128, 0.11214285343885422, 0.1014285683631897, 0.13428571820259094, 0.1867857128381729]\n",
      "[0.0, 0.4333333373069763, 0.49806949496269226, 0.5872576236724854, 0.6024096608161926, 0.6527037024497986, 0.6985446810722351, 0.6741293668746948, 0.6996603608131409, 0.711620032787323, 0.7349581122398376, 0.7269548773765564, 0.7423990964889526, 0.7379922866821289, 0.7449035048484802]\n",
      "[0.0, 0.7058823704719543, 0.34328359365463257, 0.6079999804496765, 0.5892857313156128, 0.5960912108421326, 0.5732647776603699, 0.5415676832199097, 0.45356038212776184, 0.5184615254402161, 0.5708245038986206, 0.5376712083816528, 0.5239852666854858, 0.4596576988697052, 0.4255492389202118]\n",
      "[0.13535714149475098, 0.17098213732242584, 0.19928571581840515, 0.24437500536441803, 0.2787500023841858, 0.30142858624458313, 0.32723215222358704, 0.35821428894996643, 0.3713392913341522, 0.4013392925262451, 0.43491071462631226, 0.47285714745521545, 0.4967857003211975, 0.5360714197158813, 0.5869643092155457]\n",
      "[0.16178570687770844, 0.20357142388820648, 0.21035714447498322, 0.2524999976158142, 0.26821428537368774, 0.2882142961025238, 0.2807142734527588, 0.30964285135269165, 0.26821428537368774, 0.3082142770290375, 0.3182142972946167, 0.30714285373687744, 0.30071428418159485, 0.3078571557998657, 0.31535714864730835]\n"
     ]
    }
   ],
   "source": [
    "# model 1\n",
    "print(loss_1_train)\n",
    "print(loss_1_val)\n",
    "\n",
    "print(auc_1_train)\n",
    "print(auc_1_val)\n",
    "\n",
    "print(recall_1_train)\n",
    "print(recall_1_val)\n",
    "\n",
    "print(precision_1_train)\n",
    "print(precision_1_val)\n",
    "\n",
    "print(accuracy_1_train)\n",
    "print(accuracy_1_val)"
   ]
  },
  {
   "cell_type": "code",
   "execution_count": 46,
   "metadata": {
    "id": "N2f6zg5lufyH",
    "outputId": "84a4de61-3454-4397-c04c-b94ea010ee3d"
   },
   "outputs": [
    {
     "name": "stdout",
     "output_type": "stream",
     "text": [
      "[2.182620048522949, 2.0616588592529297, 1.9935253858566284, 1.7869925498962402, 1.6994808912277222, 1.5685756206512451, 1.4760087728500366, 1.4507826566696167, 1.201623558998108, 1.0316935777664185, 0.8507006764411926, 0.6949984431266785, 0.5505310297012329, 0.4329277276992798, 0.3471852242946625]\n",
      "[2.108914375305176, 1.9850841760635376, 1.9303412437438965, 1.8681994676589966, 1.8254210948944092, 1.797218918800354, 1.8912967443466187, 1.8942053318023682, 1.935758352279663, 2.0950753688812256, 2.2481462955474854, 2.3476202487945557, 2.6111011505126953, 2.803333282470703, 3.048207998275757]\n",
      "[0.6413635611534119, 0.7063446044921875, 0.7332578897476196, 0.801537275314331, 0.8252868056297302, 0.8551633954048157, 0.872931182384491, 0.8776326179504395, 0.9185258150100708, 0.940246045589447, 0.9592075347900391, 0.9721254110336304, 0.9822937846183777, 0.988602340221405, 0.9920929074287415]\n",
      "[0.680349588394165, 0.7424602508544922, 0.7612870931625366, 0.7804816365242004, 0.7967843413352966, 0.8034738898277283, 0.7789216637611389, 0.7962944507598877, 0.7960965633392334, 0.7878416776657104, 0.7798375487327576, 0.7727528214454651, 0.7525402307510376, 0.7460887432098389, 0.7326395511627197]\n",
      "([0.009017856791615486, 0.04035714268684387, 0.04839285835623741, 0.08955357223749161, 0.12392856925725937, 0.16660714149475098, 0.21633929014205933, 0.2435714304447174, 0.3529464304447174, 0.46241071820259094, 0.576160728931427, 0.6735714077949524, 0.7513392567634583, 0.8133035898208618, 0.8544642925262451],)\n",
      "[0.014642857015132904, 0.0035714285913854837, 0.06499999761581421, 0.0860714316368103, 0.12857143580913544, 0.11178571730852127, 0.13214285671710968, 0.15857142210006714, 0.18464285135269165, 0.23035714030265808, 0.23071429133415222, 0.2542857229709625, 0.2628571391105652, 0.2807142734527588, 0.28035715222358704]\n",
      "([0.5489130616188049, 0.541317343711853, 0.6452381014823914, 0.6598684191703796, 0.6612672805786133, 0.7232558131217957, 0.7506195902824402, 0.7752202153205872, 0.8097091317176819, 0.8258650898933411, 0.8521061539649963, 0.876495897769928, 0.8990384340286255, 0.9232718348503113, 0.9350268840789795],)\n",
      "[0.7454545497894287, 0.4761904776096344, 0.5947712659835815, 0.551487386226654, 0.4979253113269806, 0.5341296792030334, 0.5, 0.4708377420902252, 0.45390692353248596, 0.4271523058414459, 0.3795534670352936, 0.39293599128723145, 0.37134209275245667, 0.3608815371990204, 0.34429824352264404]\n",
      "[0.1823214292526245, 0.24089285731315613, 0.25982141494750977, 0.3308928608894348, 0.36267855763435364, 0.42080357670783997, 0.45625001192092896, 0.4794642925262451, 0.5760714411735535, 0.6379464268684387, 0.7102678418159485, 0.7673214077949524, 0.8214285969734192, 0.8630357384681702, 0.8901785612106323]\n",
      "[0.2199999988079071, 0.271785706281662, 0.271785706281662, 0.28999999165534973, 0.3092857003211975, 0.31357142329216003, 0.30321428179740906, 0.3174999952316284, 0.3164285719394684, 0.32428571581840515, 0.31357142329216003, 0.32249999046325684, 0.3189285695552826, 0.3221428692340851, 0.3157142996788025]\n"
     ]
    }
   ],
   "source": [
    "# model 2\n",
    "print(loss_2_train)\n",
    "print(loss_2_val)\n",
    "\n",
    "print(auc_2_train)\n",
    "print(auc_2_val)\n",
    "\n",
    "print(recall_2_train)\n",
    "print(recall_2_val)\n",
    "\n",
    "print(precision_2_train)\n",
    "print(precision_2_val)\n",
    "\n",
    "print(accuracy_2_train)\n",
    "print(accuracy_2_val)"
   ]
  },
  {
   "cell_type": "code",
   "execution_count": 47,
   "metadata": {
    "id": "Efp6t6a5ufyH",
    "outputId": "118faea2-ea76-4430-afc4-b63fbd658319"
   },
   "outputs": [
    {
     "name": "stdout",
     "output_type": "stream",
     "text": [
      "[2.1733899116516113, 1.9268542528152466, 1.8063316345214844, 1.7363319396972656, 1.6066396236419678, 1.4910166263580322, 1.3384214639663696, 1.1691765785217285, 1.0052379369735718, 0.8432971835136414, 0.6731749176979065, 0.5427892208099365, 0.4183364808559418, 0.3279259502887726, 0.25492674112319946]\n",
      "[1.9815863370895386, 1.8725284337997437, 1.828523874282837, 1.9713160991668701, 1.7797513008117676, 1.8453881740570068, 1.8054654598236084, 1.9200522899627686, 2.0210514068603516, 2.108699321746826, 2.3006467819213867, 2.483405590057373, 2.655914783477783, 2.8768844604492188, 3.0428035259246826]\n",
      "[0.6476684212684631, 0.7605766654014587, 0.7977670431137085, 0.8164775371551514, 0.8478364944458008, 0.8717617988586426, 0.899059534072876, 0.9242048263549805, 0.9439417123794556, 0.9603610634803772, 0.9736466407775879, 0.9822572469711304, 0.9887926578521729, 0.9927255511283875, 0.9953727126121521]\n",
      "[0.7390451431274414, 0.7769331336021423, 0.7917623519897461, 0.7477730512619019, 0.8068591356277466, 0.8018938302993774, 0.8093239068984985, 0.8008296489715576, 0.7906139492988586, 0.7903934717178345, 0.7822842001914978, 0.7703224420547485, 0.7588165998458862, 0.7438753843307495, 0.7358466982841492]\n",
      "([0.003660714253783226, 0.042500000447034836, 0.0758928582072258, 0.10374999791383743, 0.14785714447498322, 0.18535713851451874, 0.24607142806053162, 0.3407142758369446, 0.4744642972946167, 0.5883035659790039, 0.6948214173316956, 0.7677678465843201, 0.8307142853736877, 0.869910717010498, 0.9037500023841858],)\n",
      "[0.014642857015132904, 0.043214283883571625, 0.05999999865889549, 0.07785714417695999, 0.09464285522699356, 0.13571429252624512, 0.1314285695552826, 0.17392857372760773, 0.19607143104076385, 0.23357142508029938, 0.25928571820259094, 0.2621428668498993, 0.26750001311302185, 0.27892857789993286, 0.2882142961025238]\n",
      "([0.6507936716079712, 0.6149870753288269, 0.6508422493934631, 0.6945606470108032, 0.7058823704719543, 0.732016921043396, 0.7689732313156128, 0.7749797105789185, 0.7956280708312988, 0.8189162611961365, 0.8547890782356262, 0.8851261138916016, 0.9161087274551392, 0.9364667534828186, 0.9531971216201782],)\n",
      "[0.8367347121238708, 0.5990098714828491, 0.6666666865348816, 0.5782493352890015, 0.58370041847229, 0.5046480894088745, 0.530259370803833, 0.44112318754196167, 0.3949640393257141, 0.4052044749259949, 0.37403401732444763, 0.3505253195762634, 0.34216538071632385, 0.3416447937488556, 0.34472447633743286]\n",
      "[0.18133927881717682, 0.2762500047683716, 0.32249999046325684, 0.35499998927116394, 0.40607142448425293, 0.4507142901420593, 0.5098214149475098, 0.5777678489685059, 0.6507142782211304, 0.7092857360839844, 0.7783928513526917, 0.8256250023841858, 0.8724107146263123, 0.8999999761581421, 0.9260714054107666]\n",
      "[0.2589285671710968, 0.2800000011920929, 0.3067857027053833, 0.25214284658432007, 0.3157142996788025, 0.3132142722606659, 0.32499998807907104, 0.31535714864730835, 0.3028571307659149, 0.3214285671710968, 0.32035714387893677, 0.31214284896850586, 0.31357142329216003, 0.3125, 0.31357142329216003]\n"
     ]
    }
   ],
   "source": [
    "# model 3\n",
    "print(loss_3_train)\n",
    "print(loss_3_val)\n",
    "\n",
    "print(auc_3_train)\n",
    "print(auc_3_val)\n",
    "\n",
    "print(recall_3_train)\n",
    "print(recall_3_val)\n",
    "\n",
    "print(precision_3_train)\n",
    "print(precision_3_val)\n",
    "\n",
    "print(accuracy_3_train)\n",
    "print(accuracy_3_val)"
   ]
  },
  {
   "cell_type": "code",
   "execution_count": 73,
   "metadata": {
    "id": "XTYjM0vlszuf"
   },
   "outputs": [],
   "source": [
    "from sklearn.metrics import confusion_matrix,  accuracy_score\n",
    "\n",
    "genres = ['Rock', 'Pop', 'HM', 'Indie', 'Rap', 'P/R', 'HH', 'C', 'RA', 'R&B']\n",
    "\n",
    "def draw_cm(actual_values, pred_values, color):\n",
    "    # evaluate the model and plot results\n",
    "    plt.figure(figsize=(6,6))\n",
    "    ax = plt.subplot()\n",
    "\n",
    "    cm = confusion_matrix(actual_values, pred_values)\n",
    "    sns.heatmap(cm, annot=True, ax = ax, cmap = color, fmt = 'g') #annot=True to annotate cells\n",
    "\n",
    "    # set labels\n",
    "    ax.set_xlabel('Predicted Labels')\n",
    "    ax.set_ylabel('True Labels')\n",
    "\n",
    "    # set title\n",
    "    ax.set_title('Confusion Matrix')\n",
    "    \n",
    "    ax.xaxis.set_ticklabels(genres)\n",
    "    ax.yaxis.set_ticklabels(genres)"
   ]
  },
  {
   "cell_type": "code",
   "execution_count": 74,
   "metadata": {
    "id": "XM4MU7_jszuf",
    "outputId": "d81e4c6f-37eb-4d75-d899-21f49407234b"
   },
   "outputs": [
    {
     "data": {
      "image/png": "[encoded data removed]",
      "text/plain": [
       "<Figure size 432x432 with 2 Axes>"
      ]
     },
     "metadata": {
      "needs_background": "light"
     },
     "output_type": "display_data"
    }
   ],
   "source": [
    "y_test_arg = np.argmax(y_test, axis = 1)\n",
    "y_pred_1_arg = np.argmax(y_pred_1, axis = 1)\n",
    "\n",
    "draw_cm(y_test_arg, y_pred_1_arg, 'GnBu')"
   ]
  },
  {
   "cell_type": "code",
   "execution_count": 75,
   "metadata": {
    "id": "kb8O6wXRszuf",
    "outputId": "1baa9ffe-9eb7-4df7-eeb1-82cf82e09d10"
   },
   "outputs": [
    {
     "data": {
      "image/png": "[encoded data removed]",
      "text/plain": [
       "<Figure size 432x432 with 2 Axes>"
      ]
     },
     "metadata": {
      "needs_background": "light"
     },
     "output_type": "display_data"
    }
   ],
   "source": [
    "y_test_arg = np.argmax(y_test, axis = 1)\n",
    "y_pred_2_arg = np.argmax(y_pred_2, axis = 1)\n",
    "\n",
    "draw_cm(y_test_arg, y_pred_2_arg, 'GnBu')"
   ]
  },
  {
   "cell_type": "code",
   "execution_count": 76,
   "metadata": {
    "id": "hFGaHoSdszuf",
    "outputId": "ea76a1cd-8a07-4483-9dfa-1801fcb65b48"
   },
   "outputs": [
    {
     "data": {
      "image/png": "[encoded data removed]",
      "text/plain": [
       "<Figure size 432x432 with 2 Axes>"
      ]
     },
     "metadata": {
      "needs_background": "light"
     },
     "output_type": "display_data"
    }
   ],
   "source": [
    "y_test_arg = np.argmax(y_test, axis = 1)\n",
    "y_pred_3_arg = np.argmax(y_pred_3, axis = 1)\n",
    "\n",
    "draw_cm(y_test_arg, y_pred_3_arg, 'GnBu')"
   ]
  },
  {
   "cell_type": "code",
   "execution_count": 77,
   "metadata": {
    "id": "zP6HFibHszuf",
    "outputId": "e1142bc9-5946-4a6d-8c05-be9e88c829a7"
   },
   "outputs": [
    {
     "name": "stdout",
     "output_type": "stream",
     "text": [
      "Accuracy for Model 1: 0.3295\n"
     ]
    }
   ],
   "source": [
    "print('Accuracy for Model 1:', accuracy_score(y_test_arg, y_pred_1_arg))"
   ]
  },
  {
   "cell_type": "code",
   "execution_count": 78,
   "metadata": {
    "id": "1fd7WFajszuf",
    "outputId": "db18b6e3-55d8-441e-ea5f-1fbc8af0ce4d"
   },
   "outputs": [
    {
     "name": "stdout",
     "output_type": "stream",
     "text": [
      "Accuracy for Model 2: 0.3273333333333333\n"
     ]
    }
   ],
   "source": [
    "print('Accuracy for Model 2:', accuracy_score(y_test_arg, y_pred_2_arg))"
   ]
  },
  {
   "cell_type": "code",
   "execution_count": 79,
   "metadata": {
    "id": "CVjUGl2Fszug",
    "outputId": "043023bf-f451-4d5c-87d3-0937abf864f4"
   },
   "outputs": [
    {
     "name": "stdout",
     "output_type": "stream",
     "text": [
      "Accuracy for Model 3: 0.33\n"
     ]
    }
   ],
   "source": [
    "print('Accuracy for Model 3:', accuracy_score(y_test_arg, y_pred_3_arg))"
   ]
  },
  {
   "cell_type": "code",
   "execution_count": null,
   "metadata": {},
   "outputs": [],
   "source": []
  }
 ],
 "metadata": {
  "colab": {
   "provenance": []
  },
  "kernelspec": {
   "display_name": "Python 3",
   "language": "python",
   "name": "python3"
  },
  "language_info": {
   "codemirror_mode": {
    "name": "ipython",
    "version": 3
   },
   "file_extension": ".py",
   "mimetype": "text/x-python",
   "name": "python",
   "nbconvert_exporter": "python",
   "pygments_lexer": "ipython3",
   "version": "3.8.8"
  }
 },
 "nbformat": 4,
 "nbformat_minor": 4
}
